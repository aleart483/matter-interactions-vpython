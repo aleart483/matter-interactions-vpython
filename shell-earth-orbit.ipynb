{
 "cells": [
  {
   "cell_type": "code",
   "execution_count": null,
   "metadata": {},
   "outputs": [],
   "source": []
  },
  {
   "cell_type": "markdown",
   "metadata": {},
   "source": [
    "# Earth Orbit Program\n",
    "Code the Earth orbit around the sun under normal gravity, then vary gravity to see what happens.\n",
    "There are a number of constants that we will need to make the program work:\n",
    "\n",
    "    Mass of the Sun:      1.989e30 kg\n",
    "    Radius of the Sun:    695.5e6 m\n",
    "    Mass of the Earth:    5.972e24 kg\n",
    "    Radius of the Earth:  6.371e6 m\n",
    "    Distance from Sun to Earth: 149,597,870,000 m\n",
    "    A year is 3.15e7 seconds\n",
    "\n",
    "From the above, we can compute the speed of the Earth.\n",
    "\n",
    "    Speed of the Earth:   2*pi*radius/time\n",
    "\n"
   ]
  },
  {
   "cell_type": "code",
   "execution_count": 1,
   "metadata": {},
   "outputs": [
    {
     "data": {
      "text/html": [
       "<div id=\"glowscript\" class=\"glowscript\"></div>"
      ],
      "text/plain": [
       "<IPython.core.display.HTML object>"
      ]
     },
     "metadata": {},
     "output_type": "display_data"
    },
    {
     "data": {
      "application/javascript": [
       "if (typeof Jupyter !== \"undefined\") { window.__context = { glowscript_container: $(\"#glowscript\").removeAttr(\"id\")};}else{ element.textContent = ' ';}"
      ],
      "text/plain": [
       "<IPython.core.display.Javascript object>"
      ]
     },
     "metadata": {},
     "output_type": "display_data"
    }
   ],
   "source": [
    "from math import *\n",
    "from vpython import *"
   ]
  },
  {
   "cell_type": "code",
   "execution_count": 2,
   "metadata": {},
   "outputs": [
    {
     "data": {
      "text/html": [
       "<div id=\"glowscript\" class=\"glowscript\"></div>"
      ],
      "text/plain": [
       "<IPython.core.display.HTML object>"
      ]
     },
     "metadata": {},
     "output_type": "display_data"
    },
    {
     "data": {
      "application/javascript": [
       "if (typeof Jupyter !== \"undefined\") { window.__context = { glowscript_container: $(\"#glowscript\").removeAttr(\"id\")};}else{ element.textContent = ' ';}"
      ],
      "text/plain": [
       "<IPython.core.display.Javascript object>"
      ]
     },
     "metadata": {},
     "output_type": "display_data"
    },
    {
     "data": {
      "application/javascript": [
       "if (typeof Jupyter !== \"undefined\") {require.undef(\"nbextensions/vpython_libraries/glow.min\");}else{element.textContent = ' ';}"
      ],
      "text/plain": [
       "<IPython.core.display.Javascript object>"
      ]
     },
     "metadata": {},
     "output_type": "display_data"
    },
    {
     "data": {
      "application/javascript": [
       "if (typeof Jupyter !== \"undefined\") {require.undef(\"nbextensions/vpython_libraries/glowcomm\");}else{element.textContent = ' ';}"
      ],
      "text/plain": [
       "<IPython.core.display.Javascript object>"
      ]
     },
     "metadata": {},
     "output_type": "display_data"
    },
    {
     "data": {
      "application/javascript": [
       "if (typeof Jupyter !== \"undefined\") {require.undef(\"nbextensions/vpython_libraries/jquery-ui.custom.min\");}else{element.textContent = ' ';}"
      ],
      "text/plain": [
       "<IPython.core.display.Javascript object>"
      ]
     },
     "metadata": {},
     "output_type": "display_data"
    },
    {
     "data": {
      "application/javascript": [
       "if (typeof Jupyter !== \"undefined\") {require([\"nbextensions/vpython_libraries/glow.min\"], function(){console.log(\"GLOW LOADED\");});}else{element.textContent = ' ';}"
      ],
      "text/plain": [
       "<IPython.core.display.Javascript object>"
      ]
     },
     "metadata": {},
     "output_type": "display_data"
    },
    {
     "data": {
      "application/javascript": [
       "if (typeof Jupyter !== \"undefined\") {require([\"nbextensions/vpython_libraries/glowcomm\"], function(){console.log(\"GLOWCOMM LOADED\");});}else{element.textContent = ' ';}"
      ],
      "text/plain": [
       "<IPython.core.display.Javascript object>"
      ]
     },
     "metadata": {},
     "output_type": "display_data"
    },
    {
     "data": {
      "application/javascript": [
       "if (typeof Jupyter !== \"undefined\") {require([\"nbextensions/vpython_libraries/jquery-ui.custom.min\"], function(){console.log(\"JQUERY LOADED\");});}else{element.textContent = ' ';}"
      ],
      "text/plain": [
       "<IPython.core.display.Javascript object>"
      ]
     },
     "metadata": {},
     "output_type": "display_data"
    },
    {
     "name": "stdout",
     "output_type": "stream",
     "text": [
      "days 365.0\n"
     ]
    }
   ],
   "source": [
    "#\n",
    "# Needed Constants\n",
    "#\n",
    "sun_earth_distance = 149597870000\n",
    "speed_of_earth = (2 * pi * sun_earth_distance / (3.15e7))\n",
    "#\n",
    "# Set up the displays\n",
    "#\n",
    "scene2 = canvas(title='Earth orbiting the Sun',caption='Animated Display',\n",
    "     center=vector(0,0,0), background=color.black)\n",
    "#\n",
    "# Make the radius of each object large enough to see them\n",
    "#\n",
    "earth = sphere(pos=vector(sun_earth_distance,0,0),radius=1e9,color=color.green)\n",
    "sun   = sphere(pos=vector(0,0,0),radius=5e9,color=color.yellow)\n",
    "#\n",
    "G = 6.6743e-11\n",
    "#\n",
    "earth.mass = 5.972e24\n",
    "sun.mass   = 1.989e30\n",
    "#\n",
    "#\n",
    "earth.momentum = earth.mass*vector(0,speed_of_earth,0)\n",
    "sun.momentum = sun.mass*vector(0,0,0)\n",
    "#\n",
    "# Create a trail for the earth, and vectors for the force on the earth.\n",
    "# scale should be a number that lets is see the force arrow on the plot.\n",
    "#\n",
    "earth.trail = curve(color=color.magenta)\n",
    "earth.trail.append(pos=earth.pos)\n",
    "#\n",
    "earth.force_arrow = arrow(pos=earth.pos,color=earth.color,axis=-norm(earth.pos))\n",
    "earth.momentum_arrow = arrow(pos=earth.pos,color=color.blue,axis=norm(earth.momentum))\n",
    "scale = 3e-12\n",
    "#\n",
    "# Initial time is 0, and the time step is twelve hours\n",
    "#\n",
    "time = 0\n",
    "dt = (12*3600)\n",
    "#\n",
    "# We will initially run for one year\n",
    "#\n",
    "while time < 3.15e7:\n",
    "    rate(100)\n",
    "#\n",
    "    time += dt\n",
    "#\n",
    "#  Compute the displacement from the sun to the earth\n",
    "#\n",
    "    radius = earth.pos - sun.pos\n",
    "    r2 = mag2(radius)\n",
    "    r_hat = norm(radius)\n",
    "#\n",
    "#  Compute the force on the earth using our force function.\n",
    "#\n",
    "    earth.force = -G*earth.mass*sun.mass*r_hat/r2\n",
    "#\n",
    "#  Update the momentum and position of the Earth\n",
    "#\n",
    "    earth.momentum += earth.force*dt\n",
    "    earth.pos += (earth.momentum/earth.mass)*dt\n",
    "#\n",
    "#   Update the Earth's Force & Momentum arrow\n",
    "#\n",
    "    earth.trail.append(pos=earth.pos)\n",
    "    earth.force_arrow.pos = earth.pos\n",
    "    earth.force_arrow.axis = earth.force*scale\n",
    "    earth.momentum_arrow.pos = earth.pos\n",
    "    earth.momentum_arrow.axis = earth.momentum*scale*1e-7\n",
    "#\n",
    "days = time/(3600*24)\n",
    "print('days',days)"
   ]
  },
  {
   "cell_type": "code",
   "execution_count": null,
   "metadata": {},
   "outputs": [],
   "source": []
  }
 ],
 "metadata": {
  "kernelspec": {
   "display_name": "VPython",
   "language": "python",
   "name": "vpython"
  },
  "language_info": {
   "codemirror_mode": {
    "name": "ipython",
    "version": 3
   },
   "file_extension": ".py",
   "mimetype": "text/x-python",
   "name": "python",
   "nbconvert_exporter": "python",
   "pygments_lexer": "ipython3",
   "version": "3.7.3"
  }
 },
 "nbformat": 4,
 "nbformat_minor": 2
}
