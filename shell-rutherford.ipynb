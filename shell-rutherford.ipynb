{
 "cells": [
  {
   "cell_type": "code",
   "execution_count": 1,
   "metadata": {},
   "outputs": [
    {
     "data": {
      "text/html": [
       "<div id=\"glowscript\" class=\"glowscript\"></div>"
      ],
      "text/plain": [
       "<IPython.core.display.HTML object>"
      ]
     },
     "metadata": {},
     "output_type": "display_data"
    },
    {
     "data": {
      "application/javascript": [
       "if (typeof Jupyter !== \"undefined\") { window.__context = { glowscript_container: $(\"#glowscript\").removeAttr(\"id\")};}else{ element.textContent = ' ';}"
      ],
      "text/plain": [
       "<IPython.core.display.Javascript object>"
      ]
     },
     "metadata": {},
     "output_type": "display_data"
    }
   ],
   "source": [
    "from math import *\n",
    "from vpython import *"
   ]
  },
  {
   "cell_type": "markdown",
   "metadata": {},
   "source": [
    "#Rutherford Scattering Program"
   ]
  },
  {
   "cell_type": "code",
   "execution_count": 2,
   "metadata": {},
   "outputs": [
    {
     "data": {
      "text/html": [
       "<div id=\"glowscript\" class=\"glowscript\"></div>"
      ],
      "text/plain": [
       "<IPython.core.display.HTML object>"
      ]
     },
     "metadata": {},
     "output_type": "display_data"
    },
    {
     "data": {
      "application/javascript": [
       "if (typeof Jupyter !== \"undefined\") { window.__context = { glowscript_container: $(\"#glowscript\").removeAttr(\"id\")};}else{ element.textContent = ' ';}"
      ],
      "text/plain": [
       "<IPython.core.display.Javascript object>"
      ]
     },
     "metadata": {},
     "output_type": "display_data"
    },
    {
     "data": {
      "application/javascript": [
       "if (typeof Jupyter !== \"undefined\") {require.undef(\"nbextensions/vpython_libraries/glow.min\");}else{element.textContent = ' ';}"
      ],
      "text/plain": [
       "<IPython.core.display.Javascript object>"
      ]
     },
     "metadata": {},
     "output_type": "display_data"
    },
    {
     "data": {
      "application/javascript": [
       "if (typeof Jupyter !== \"undefined\") {require.undef(\"nbextensions/vpython_libraries/glowcomm\");}else{element.textContent = ' ';}"
      ],
      "text/plain": [
       "<IPython.core.display.Javascript object>"
      ]
     },
     "metadata": {},
     "output_type": "display_data"
    },
    {
     "data": {
      "application/javascript": [
       "if (typeof Jupyter !== \"undefined\") {require.undef(\"nbextensions/vpython_libraries/jquery-ui.custom.min\");}else{element.textContent = ' ';}"
      ],
      "text/plain": [
       "<IPython.core.display.Javascript object>"
      ]
     },
     "metadata": {},
     "output_type": "display_data"
    },
    {
     "data": {
      "application/javascript": [
       "if (typeof Jupyter !== \"undefined\") {require([\"nbextensions/vpython_libraries/glow.min\"], function(){console.log(\"GLOW LOADED\");});}else{element.textContent = ' ';}"
      ],
      "text/plain": [
       "<IPython.core.display.Javascript object>"
      ]
     },
     "metadata": {},
     "output_type": "display_data"
    },
    {
     "data": {
      "application/javascript": [
       "if (typeof Jupyter !== \"undefined\") {require([\"nbextensions/vpython_libraries/glowcomm\"], function(){console.log(\"GLOWCOMM LOADED\");});}else{element.textContent = ' ';}"
      ],
      "text/plain": [
       "<IPython.core.display.Javascript object>"
      ]
     },
     "metadata": {},
     "output_type": "display_data"
    },
    {
     "data": {
      "application/javascript": [
       "if (typeof Jupyter !== \"undefined\") {require([\"nbextensions/vpython_libraries/jquery-ui.custom.min\"], function(){console.log(\"JQUERY LOADED\");});}else{element.textContent = ' ';}"
      ],
      "text/plain": [
       "<IPython.core.display.Javascript object>"
      ]
     },
     "metadata": {},
     "output_type": "display_data"
    },
    {
     "name": "stdout",
     "output_type": "stream",
     "text": [
      "Alpha mass =  6.8e-27\n",
      "Alpha momentum =  <1.47513e-19, 0, 0>\n",
      "Alpha Velocity =  <2.1693e+07, 0, 0>\n"
     ]
    }
   ],
   "source": [
    "#\n",
    "# Because the force is different if the alpha is outside or inside the gold\n",
    "# nucleus, we will use a function to compute the force. You need to code up\n",
    "# both cases here for the force between part1 and part2\n",
    "#\n",
    "def force(part1,part2): # electric force of part2 on part1\n",
    "    if ( mag(part1.pos-part2.pos) >= part2.radius ) :\n",
    "        force = k*part1.charge*part2.charge*norm(part1.pos-part2.pos) / mag2(part1.pos-part2.pos)\n",
    "    else:\n",
    "        force = k*part1.charge*part2.charge*(part1.pos-part2.pos) / part2.radius**3\n",
    "    return force\n",
    "#\n",
    "scene2=canvas(title='Rutherford Scattering',caption='Caption',center=vector(0,0,0))\n",
    "#\n",
    "# Mass of the Gold:      3.35e-25 kg\n",
    "# Radius of the Gold:    5.0e-14\n",
    "# Mass of the Alpha:     6.8e-27 kg\n",
    "# Radius of the Alpha   1e-15 m\n",
    "# Kinetic Energy of the Alpha    1.6e-12 Joules\n",
    "#\n",
    "#  size is a scale factor that we use. Don't change\n",
    "#\n",
    "size=4.0e-13\n",
    "#\n",
    "# Initialzie parameters:\n",
    "# Kinetic Energy of alpha in Joules\n",
    "#\n",
    "GoldRadius  = (2.67e-14)/2\n",
    "AlphaRadius = 1e-15\n",
    "AlphaEnergy = 1.6e-12\n",
    "ImpactParameter = 0.1*GoldRadius\n",
    "b = ImpactParameter\n",
    "scene2.caption=('Impact parameter=',ImpactParameter)\n",
    "#\n",
    "# Electric Force Constant\n",
    "#\n",
    "k      = 9e9\n",
    "elechg = 1.602e-19\n",
    "#\n",
    "# Initialize time to zero, and set a time step (seconds)\n",
    "t  = 0\n",
    "dt = 1.0e-23\n",
    "#\n",
    "#   Creae the Alpha Particle\n",
    "#\n",
    "alpha = sphere(pos=vector(-0.95*size*2/10,ImpactParameter,0), radius=AlphaRadius, color=color.red) #-0.95size\n",
    "gold = sphere(pos=vector(0,0,0), radius=GoldRadius,color=color.yellow,opacity=0.25)\n",
    "#\n",
    "#   You need to fill in reasonable values\n",
    "#\n",
    "alpha.mass   = 6.8e-27\n",
    "alpha.charge = 2*elechg \n",
    "alpha.energy = AlphaEnergy \n",
    "p_alpha = (2.0*alpha.mass*alpha.energy)**0.5 # Non-relativistic\n",
    "#\n",
    "alpha.momentum = vector(p_alpha,0,0)\n",
    "alpha.velocity = vector(p_alpha/alpha.mass,0,0)\n",
    "#\n",
    "print('Alpha mass = ',alpha.mass)\n",
    "print('Alpha momentum = ', alpha.momentum)\n",
    "print('Alpha Velocity = ', alpha.velocity)\n",
    "#\n",
    "# Put in reasonable values\n",
    "#\n",
    "gold.momentum=vector(0,0,0)\n",
    "gold.mass = 3.35e-25\n",
    "gold.charge = 79 * elechg\n",
    "#\n",
    "#  Commands to set up a graph.....\n",
    "#\n",
    "s='<b>Rutherford </b>'\n",
    "graph(title=s, xtitle='Time', ytitle='Angular Momentum', xmin=0, xmax=6*size, ymax=15, ymin=-5)\n",
    "#\n",
    "gold.trail = curve(color=gold.color) \n",
    "alpha.trail = curve(color=alpha.color)\n",
    "#\n",
    "runit = 1\n",
    "#\n",
    "while (runit==1):\n",
    "#\n",
    "    rate(100)\n",
    "#\n",
    "# Calculate the force exerted on the alpha by the gold. If\n",
    "# the alpha is outside the gold, it is coulomb, inside it\n",
    "# is linear.\n",
    "#\n",
    "    alpha.force = force(alpha,gold)\n",
    "#\n",
    "#  Update Mometum and positions\n",
    "# \n",
    "    alpha.momentum += alpha.force*dt \n",
    "    alpha.pos += alpha.momentum*dt/alpha.mass \n",
    "#\n",
    "    gold.momentum -= alpha.force*dt\n",
    "    ##gold.pos += gold.momentum*dt/gold.mass\n",
    "#\n",
    "    alpha.trail.append(pos=alpha.pos)\n",
    "    gold.trail.append(pos=gold.pos)\n",
    "#\n",
    "    t = t+dt\n",
    "#\n",
    "#  This is a stopping condition that if we get farther away than size,\n",
    "#  we stop, or if we are running forever.\n",
    "#\n",
    "    if(abs(alpha.pos.x)>size*2/10 or mag(alpha.pos)>size):\n",
    "        runit=0\n",
    "    if(t>10):    # if more than 10 seconds have passed, we have a problem.\n",
    "        runit=0\n",
    "#\n",
    "# Add stuff below after we have stopped looping\n",
    "#\n",
    "theta = atan2(alpha.pos.y,alpha.pos.x)*57.3\n",
    "scene2.caption=('Impact parameter=',b,' Scattering angle =',theta)\n",
    "#"
   ]
  },
  {
   "cell_type": "code",
   "execution_count": null,
   "metadata": {},
   "outputs": [],
   "source": []
  }
 ],
 "metadata": {
  "kernelspec": {
   "display_name": "Python 3",
   "language": "python",
   "name": "python3"
  },
  "language_info": {
   "codemirror_mode": {
    "name": "ipython",
    "version": 3
   },
   "file_extension": ".py",
   "mimetype": "text/x-python",
   "name": "python",
   "nbconvert_exporter": "python",
   "pygments_lexer": "ipython3",
   "version": "3.7.4"
  }
 },
 "nbformat": 4,
 "nbformat_minor": 2
}
