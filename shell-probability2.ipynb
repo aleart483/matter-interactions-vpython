{
 "cells": [
  {
   "cell_type": "code",
   "execution_count": 1,
   "metadata": {},
   "outputs": [
    {
     "data": {
      "text/html": [
       "<div id=\"glowscript\" class=\"glowscript\"></div>"
      ],
      "text/plain": [
       "<IPython.core.display.HTML object>"
      ]
     },
     "metadata": {},
     "output_type": "display_data"
    },
    {
     "data": {
      "application/javascript": [
       "if (typeof Jupyter !== \"undefined\") { window.__context = { glowscript_container: $(\"#glowscript\").removeAttr(\"id\")};}else{ element.textContent = ' ';}"
      ],
      "text/plain": [
       "<IPython.core.display.Javascript object>"
      ]
     },
     "metadata": {},
     "output_type": "display_data"
    }
   ],
   "source": [
    "from math import *\n",
    "from vpython import *\n",
    "import random"
   ]
  },
  {
   "cell_type": "code",
   "execution_count": 2,
   "metadata": {},
   "outputs": [
    {
     "data": {
      "text/html": [
       "<div id=\"glowscript\" class=\"glowscript\"></div>"
      ],
      "text/plain": [
       "<IPython.core.display.HTML object>"
      ]
     },
     "metadata": {},
     "output_type": "display_data"
    },
    {
     "data": {
      "application/javascript": [
       "if (typeof Jupyter !== \"undefined\") { window.__context = { glowscript_container: $(\"#glowscript\").removeAttr(\"id\")};}else{ element.textContent = ' ';}"
      ],
      "text/plain": [
       "<IPython.core.display.Javascript object>"
      ]
     },
     "metadata": {},
     "output_type": "display_data"
    },
    {
     "data": {
      "application/javascript": [
       "if (typeof Jupyter !== \"undefined\") {require.undef(\"nbextensions/vpython_libraries/glow.min\");}else{element.textContent = ' ';}"
      ],
      "text/plain": [
       "<IPython.core.display.Javascript object>"
      ]
     },
     "metadata": {},
     "output_type": "display_data"
    },
    {
     "data": {
      "application/javascript": [
       "if (typeof Jupyter !== \"undefined\") {require.undef(\"nbextensions/vpython_libraries/glowcomm\");}else{element.textContent = ' ';}"
      ],
      "text/plain": [
       "<IPython.core.display.Javascript object>"
      ]
     },
     "metadata": {},
     "output_type": "display_data"
    },
    {
     "data": {
      "application/javascript": [
       "if (typeof Jupyter !== \"undefined\") {require.undef(\"nbextensions/vpython_libraries/jquery-ui.custom.min\");}else{element.textContent = ' ';}"
      ],
      "text/plain": [
       "<IPython.core.display.Javascript object>"
      ]
     },
     "metadata": {},
     "output_type": "display_data"
    },
    {
     "data": {
      "application/javascript": [
       "if (typeof Jupyter !== \"undefined\") {require([\"nbextensions/vpython_libraries/glow.min\"], function(){console.log(\"GLOW LOADED\");});}else{element.textContent = ' ';}"
      ],
      "text/plain": [
       "<IPython.core.display.Javascript object>"
      ]
     },
     "metadata": {},
     "output_type": "display_data"
    },
    {
     "data": {
      "application/javascript": [
       "if (typeof Jupyter !== \"undefined\") {require([\"nbextensions/vpython_libraries/glowcomm\"], function(){console.log(\"GLOWCOMM LOADED\");});}else{element.textContent = ' ';}"
      ],
      "text/plain": [
       "<IPython.core.display.Javascript object>"
      ]
     },
     "metadata": {},
     "output_type": "display_data"
    },
    {
     "data": {
      "application/javascript": [
       "if (typeof Jupyter !== \"undefined\") {require([\"nbextensions/vpython_libraries/jquery-ui.custom.min\"], function(){console.log(\"JQUERY LOADED\");});}else{element.textContent = ' ';}"
      ],
      "text/plain": [
       "<IPython.core.display.Javascript object>"
      ]
     },
     "metadata": {},
     "output_type": "display_data"
    }
   ],
   "source": [
    "#\n",
    "# Set up the total number of samples and experiments\n",
    "#\n",
    "N = 100        # Number of particles to distribute\n",
    "B1 = 0         # Number of particles in box 1\n",
    "N_Exp = 100000    # Number of experiments\n",
    "#\n",
    "# The following is 100 length list with all values of 0 that allows us to store # of particles\n",
    "# for each of the N1=0 to N1=N possibilities. \n",
    "#\n",
    "probdata= [0]*101\n",
    "#\n",
    "# Setup the graphical displays. You are likely to need to modify\n",
    "# some of this as you go through the various programs.\n",
    "#\n",
    "scene1=canvas(title='Combinations',caption='Probability Distribution',center=vector(0,0,0))\n",
    "#\n",
    "s='<b>Distribuion of Particles in a Box</b>'\n",
    "graph(title=s, xtitle='N1', ytitle='Number of Particles',xmin=0,xmax=N, \n",
    "      ymin=0,width=400,height=200)\n",
    "#\n",
    "probplot=gvbars(color=color.blue)\n",
    "#\n",
    "# --------------------------------------------------\n",
    "# Initialization Complete, Start Actual Calculations\n",
    "# --------------------------------------------------\n",
    "#\n",
    "for i in range(0, N_Exp):\n",
    "    N1=0\n",
    "    B1=0\n",
    "    while (N1<N):\n",
    "#\n",
    "# In first box?\n",
    "#\n",
    "        if random.randint(0,10) < 5:\n",
    "            B1 += 1\n",
    "#\n",
    "# Go to the next value of N1\n",
    "#\n",
    "        N1+=1\n",
    "#\n",
    "# We have finished the current experiment, update the probdata\n",
    "    probdata[B1] += 1\n",
    "#\n",
    "#\n",
    "# Plot the probability distributions in a window, assuming that we\n",
    "# have the filled probdata array from above.\n",
    "#\n",
    "i=0\n",
    "while (i<=N):\n",
    "    probplot.plot(pos=(i,probdata[i]))\n",
    "    i+=1\n",
    "#"
   ]
  }
 ],
 "metadata": {
  "kernelspec": {
   "display_name": "Python 3",
   "language": "python",
   "name": "python3"
  },
  "language_info": {
   "codemirror_mode": {
    "name": "ipython",
    "version": 3
   },
   "file_extension": ".py",
   "mimetype": "text/x-python",
   "name": "python",
   "nbconvert_exporter": "python",
   "pygments_lexer": "ipython3",
   "version": "3.7.4"
  }
 },
 "nbformat": 4,
 "nbformat_minor": 2
}
