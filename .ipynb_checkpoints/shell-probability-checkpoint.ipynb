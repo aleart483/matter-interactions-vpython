{
 "cells": [
  {
   "cell_type": "markdown",
   "metadata": {},
   "source": [
    "# Particle in a Box Shell\n",
    "In this exercise, we will numerically calculate the probability distributions of N particles \n",
    "distributed between two boxes. \n"
   ]
  },
  {
   "cell_type": "code",
   "execution_count": 1,
   "metadata": {},
   "outputs": [
    {
     "data": {
      "text/html": [
       "<div id=\"glowscript\" class=\"glowscript\"></div>"
      ],
      "text/plain": [
       "<IPython.core.display.HTML object>"
      ]
     },
     "metadata": {},
     "output_type": "display_data"
    },
    {
     "data": {
      "application/javascript": [
       "if (typeof Jupyter !== \"undefined\") { window.__context = { glowscript_container: $(\"#glowscript\").removeAttr(\"id\")};}else{ element.textContent = ' ';}"
      ],
      "text/plain": [
       "<IPython.core.display.Javascript object>"
      ]
     },
     "metadata": {},
     "output_type": "display_data"
    }
   ],
   "source": [
    "from math import *\n",
    "from vpython import *\n",
    "import random"
   ]
  },
  {
   "cell_type": "code",
   "execution_count": 2,
   "metadata": {},
   "outputs": [
    {
     "data": {
      "text/html": [
       "<div id=\"glowscript\" class=\"glowscript\"></div>"
      ],
      "text/plain": [
       "<IPython.core.display.HTML object>"
      ]
     },
     "metadata": {},
     "output_type": "display_data"
    },
    {
     "data": {
      "application/javascript": [
       "if (typeof Jupyter !== \"undefined\") { window.__context = { glowscript_container: $(\"#glowscript\").removeAttr(\"id\")};}else{ element.textContent = ' ';}"
      ],
      "text/plain": [
       "<IPython.core.display.Javascript object>"
      ]
     },
     "metadata": {},
     "output_type": "display_data"
    },
    {
     "data": {
      "application/javascript": [
       "if (typeof Jupyter !== \"undefined\") {require.undef(\"nbextensions/vpython_libraries/glow.min\");}else{element.textContent = ' ';}"
      ],
      "text/plain": [
       "<IPython.core.display.Javascript object>"
      ]
     },
     "metadata": {},
     "output_type": "display_data"
    },
    {
     "data": {
      "application/javascript": [
       "if (typeof Jupyter !== \"undefined\") {require.undef(\"nbextensions/vpython_libraries/glowcomm\");}else{element.textContent = ' ';}"
      ],
      "text/plain": [
       "<IPython.core.display.Javascript object>"
      ]
     },
     "metadata": {},
     "output_type": "display_data"
    },
    {
     "data": {
      "application/javascript": [
       "if (typeof Jupyter !== \"undefined\") {require.undef(\"nbextensions/vpython_libraries/jquery-ui.custom.min\");}else{element.textContent = ' ';}"
      ],
      "text/plain": [
       "<IPython.core.display.Javascript object>"
      ]
     },
     "metadata": {},
     "output_type": "display_data"
    },
    {
     "data": {
      "application/javascript": [
       "if (typeof Jupyter !== \"undefined\") {require([\"nbextensions/vpython_libraries/glow.min\"], function(){console.log(\"GLOW LOADED\");});}else{element.textContent = ' ';}"
      ],
      "text/plain": [
       "<IPython.core.display.Javascript object>"
      ]
     },
     "metadata": {},
     "output_type": "display_data"
    },
    {
     "data": {
      "application/javascript": [
       "if (typeof Jupyter !== \"undefined\") {require([\"nbextensions/vpython_libraries/glowcomm\"], function(){console.log(\"GLOWCOMM LOADED\");});}else{element.textContent = ' ';}"
      ],
      "text/plain": [
       "<IPython.core.display.Javascript object>"
      ]
     },
     "metadata": {},
     "output_type": "display_data"
    },
    {
     "data": {
      "application/javascript": [
       "if (typeof Jupyter !== \"undefined\") {require([\"nbextensions/vpython_libraries/jquery-ui.custom.min\"], function(){console.log(\"JQUERY LOADED\");});}else{element.textContent = ' ';}"
      ],
      "text/plain": [
       "<IPython.core.display.Javascript object>"
      ]
     },
     "metadata": {},
     "output_type": "display_data"
    },
    {
     "name": "stdout",
     "output_type": "stream",
     "text": [
      " Analytic Results:\n",
      " Average Value of N = 0.0099009900990099\n",
      " Most Probable N = 50 ; Probability= 0.07958923738717878\n",
      " --------------------\n"
     ]
    }
   ],
   "source": [
    "#\n",
    "# Set up the total number of samples and experiments\n",
    "#\n",
    "N = 100        # Number of particles to distribute\n",
    "V = 1.0      # Let the total volume be one unit\n",
    "ratio = 0.5   # Set up the ratio V1/V\n",
    "#\n",
    "# The following is an empty list that allows us to store the probability\n",
    "# for each of the N1=0 to N1=N possibilities. \n",
    "#\n",
    "probdata=[]\n",
    "#\n",
    "# Set up the two volumes:\n",
    "#\n",
    "V1 = V*ratio\n",
    "V2 = V-V1\n",
    "#\n",
    "# We also need to determine at which value of N1 we have the maximimum\n",
    "# of the probabability, so in each step of our loop, we need to check\n",
    "# if the current probability is max, and if so record the location (Max)\n",
    "# and probability (MaxValue). We will also compute the average.\n",
    "#\n",
    "Max = 0      # Most probable value of N1\n",
    "MaxValue = -10000 # Probability of most probable value of N1\n",
    "Average = 0  # Average value of N1\n",
    "#\n",
    "# Setup the graphical displays. You are likely to need to modify\n",
    "# some of this as you go through the various programs.\n",
    "#\n",
    "scene1=canvas(title='Combinations',caption='Probability Distribution',center=vector(0,0,0))\n",
    "#\n",
    "s='<b>Distribuion of Particles in a Box</b>'\n",
    "graph(title=s, xtitle='N', ytitle='Probability',xmin=0,xmax=N, \n",
    "      ymin=0,width=400,height=200)\n",
    "#\n",
    "probplot=gvbars(color=color.blue)\n",
    "#\n",
    "# --------------------------------------------------\n",
    "# Initialization Complete, Start Actual Calculations\n",
    "# --------------------------------------------------\n",
    "#\n",
    "N1=0\n",
    "while (N1<=N):\n",
    "#\n",
    "# Compute your probability for our choice of N1\n",
    "#\n",
    "    p = combin(N, N1)*((V1/V)**N1)*(V2/V)**(N-N1)\n",
    "    #p = log(p) \n",
    "#\n",
    "# Add this probability to the list of probabilities\n",
    "#\n",
    "    probdata.append(p)\n",
    "#\n",
    "# Do a check to see if the current value of p is the maximum value.\n",
    "# (Max and MaxValue)\n",
    "#\n",
    "    if (p>MaxValue):\n",
    "        MaxValue = p\n",
    "        Max = N1\n",
    "#        \n",
    "#\n",
    "# Update your running sum for the average value of N1\n",
    "# (Average)\n",
    "#\n",
    "    Average = (Average*N1+p)/(N1+1)\n",
    "#\n",
    "# Go to the next value of N1\n",
    "#\n",
    "    N1+=1\n",
    "#\n",
    "# We have finished the loop, print out the numerical results.\n",
    "#\n",
    "print (\" Analytic Results:\" )\n",
    "print (\" Average Value of N =\",Average)\n",
    "print (\" Most Probable N =\",Max,\"; Probability=\",MaxValue)\n",
    "print (\" --------------------\")\n",
    "#\n",
    "# Plot the probability distributions in a window, assuming that we\n",
    "# have the filled probdata array from above.\n",
    "#\n",
    "i=0\n",
    "while (i<=N):\n",
    "    probplot.plot(pos=(i,probdata[i]))\n",
    "    i+=1\n",
    "#\n"
   ]
  }
 ],
 "metadata": {
  "kernelspec": {
   "display_name": "Python 3",
   "language": "python",
   "name": "python3"
  },
  "language_info": {
   "codemirror_mode": {
    "name": "ipython",
    "version": 3
   },
   "file_extension": ".py",
   "mimetype": "text/x-python",
   "name": "python",
   "nbconvert_exporter": "python",
   "pygments_lexer": "ipython3",
   "version": "3.7.4"
  }
 },
 "nbformat": 4,
 "nbformat_minor": 2
}
