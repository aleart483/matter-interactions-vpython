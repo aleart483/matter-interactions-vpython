{
 "cells": [
  {
   "cell_type": "code",
   "execution_count": 1,
   "metadata": {},
   "outputs": [
    {
     "data": {
      "text/html": [
       "<div id=\"glowscript\" class=\"glowscript\"></div>"
      ],
      "text/plain": [
       "<IPython.core.display.HTML object>"
      ]
     },
     "metadata": {},
     "output_type": "display_data"
    },
    {
     "data": {
      "application/javascript": [
       "if (typeof Jupyter !== \"undefined\") { window.__context = { glowscript_container: $(\"#glowscript\").removeAttr(\"id\")};}else{ element.textContent = ' ';}"
      ],
      "text/plain": [
       "<IPython.core.display.Javascript object>"
      ]
     },
     "metadata": {},
     "output_type": "display_data"
    }
   ],
   "source": [
    "from math import *\n",
    "from vpython import *"
   ]
  },
  {
   "cell_type": "markdown",
   "metadata": {},
   "source": [
    "Move the mouse over the graph to explore its interactivity. Drag a rectangle in the graph to zoom. Examine the icons at the upper right. Click the \"Reset axes\" icon to restore. Drag along the botton or left to pan."
   ]
  },
  {
   "cell_type": "code",
   "execution_count": 2,
   "metadata": {},
   "outputs": [
    {
     "data": {
      "text/html": [
       "<div id=\"glowscript\" class=\"glowscript\"></div>"
      ],
      "text/plain": [
       "<IPython.core.display.HTML object>"
      ]
     },
     "metadata": {},
     "output_type": "display_data"
    },
    {
     "data": {
      "application/javascript": [
       "if (typeof Jupyter !== \"undefined\") { window.__context = { glowscript_container: $(\"#glowscript\").removeAttr(\"id\")};}else{ element.textContent = ' ';}"
      ],
      "text/plain": [
       "<IPython.core.display.Javascript object>"
      ]
     },
     "metadata": {},
     "output_type": "display_data"
    },
    {
     "data": {
      "application/javascript": [
       "if (typeof Jupyter !== \"undefined\") {require.undef(\"nbextensions/vpython_libraries/glow.min\");}else{element.textContent = ' ';}"
      ],
      "text/plain": [
       "<IPython.core.display.Javascript object>"
      ]
     },
     "metadata": {},
     "output_type": "display_data"
    },
    {
     "data": {
      "application/javascript": [
       "if (typeof Jupyter !== \"undefined\") {require.undef(\"nbextensions/vpython_libraries/glowcomm\");}else{element.textContent = ' ';}"
      ],
      "text/plain": [
       "<IPython.core.display.Javascript object>"
      ]
     },
     "metadata": {},
     "output_type": "display_data"
    },
    {
     "data": {
      "application/javascript": [
       "if (typeof Jupyter !== \"undefined\") {require.undef(\"nbextensions/vpython_libraries/jquery-ui.custom.min\");}else{element.textContent = ' ';}"
      ],
      "text/plain": [
       "<IPython.core.display.Javascript object>"
      ]
     },
     "metadata": {},
     "output_type": "display_data"
    },
    {
     "data": {
      "application/javascript": [
       "if (typeof Jupyter !== \"undefined\") {require([\"nbextensions/vpython_libraries/glow.min\"], function(){console.log(\"GLOW LOADED\");});}else{element.textContent = ' ';}"
      ],
      "text/plain": [
       "<IPython.core.display.Javascript object>"
      ]
     },
     "metadata": {},
     "output_type": "display_data"
    },
    {
     "data": {
      "application/javascript": [
       "if (typeof Jupyter !== \"undefined\") {require([\"nbextensions/vpython_libraries/glowcomm\"], function(){console.log(\"GLOWCOMM LOADED\");});}else{element.textContent = ' ';}"
      ],
      "text/plain": [
       "<IPython.core.display.Javascript object>"
      ]
     },
     "metadata": {},
     "output_type": "display_data"
    },
    {
     "data": {
      "application/javascript": [
       "if (typeof Jupyter !== \"undefined\") {require([\"nbextensions/vpython_libraries/jquery-ui.custom.min\"], function(){console.log(\"JQUERY LOADED\");});}else{element.textContent = ' ';}"
      ],
      "text/plain": [
       "<IPython.core.display.Javascript object>"
      ]
     },
     "metadata": {},
     "output_type": "display_data"
    }
   ],
   "source": [
    "#\n",
    "# Initialize so spring properties. All units are assumed to me \n",
    "# in MKS units.\n",
    "#\n",
    "spring_constant = 10.0\n",
    "equil_length    = 50.0e-2\n",
    "initial_stretch = 10.0e-2\n",
    "bob_mass        = 80.0e-3\n",
    "#\n",
    "# Set up the animation canvas where we display the mass on the spring.\n",
    "#\n",
    "scene2 = canvas(title='Mass on a Spring',caption='Animated Display',\n",
    "     center=vector(equil_length,0,0), background=color.white)\n",
    "#\n",
    "# Set up the wall, spring and mass\n",
    "#\n",
    "wall   = box(pos=vector(0,0,0),size=vector(0.01,.2,.2),color=color.cyan)\n",
    "wall2  = box(pos=vector(equil_length*2+wall.size.x,0,0),size=vector(0.01,.2,.2),color=color.cyan)\n",
    "bob  = box(pos=vector(0,0,0),size=vector(.05,.05,.05),color=color.red)\n",
    "spring  = helix(pos=wall.pos,axis=bob.pos-wall.pos,radius=0.01,thickness=.01,coils=10,color=color.green)\n",
    "spring2 = helix(pos=wall2.pos,axis=bob.pos-wall2.pos,radius=0.01,thickness=.01,coils=10,color=color.green)\n",
    "#\n",
    "# equilibrium position of the end of the spring.\n",
    "#\n",
    "spring.equil  = vector(equil_length,0,0)\n",
    "spring2.equil = vector(equil_length,0,0)\n",
    "bob.pos = wall.pos + spring.equil + vector(initial_stretch,0,0)\n",
    "#\n",
    "# Input Parameters needed in the program. Be sure to\n",
    "# choose sensible values.\n",
    "#\n",
    "bob.mass  = bob_mass\n",
    "bob.mom   = vector(0,0,0)\n",
    "spring.ks = spring_constant\n",
    "dt = 0.01\n",
    "t  = 0.0\n",
    "#\n",
    "#---------------------------------------------------------\n",
    "#\n",
    "scene.autoscale = 0           # Turn off auto scaling\n",
    "#\n",
    "# Setup a graph window to plot things in\n",
    "# Move the mouse over the graph to explore its interactivity.\n",
    "# Drag a rectangle in the graph to zoom. Examine the icons at the upper right.\n",
    "# Click the \"Reset axes\" icon to restore. Drag along the bottom or left to pan.\n",
    "#\n",
    "s='<b>Mass and Spring: Graph</b>'\n",
    "#\n",
    "graph(title=s, xtitle='Time', ytitle='Displacement',xmax=10.0, ymax=0.25, ymin=-0.25, \n",
    "      x=0, y=500, width=500, height=300)\n",
    "#\n",
    "# Set up the curve to plot information on the graph.\n",
    "#\n",
    "drawit = gcurve(color=color.cyan, label='Position')\n",
    "#\n",
    "#\n",
    "while(t<10):\n",
    "    rate(100)\n",
    "    t = t + dt \n",
    "#\n",
    "#\n",
    "    stretch  = bob.pos-spring.equil\n",
    "    stretch2 = bob.pos-spring2.equil\n",
    "    spring.force  = -spring_constant*stretch\n",
    "    spring2.force = -spring_constant*stretch2\n",
    "    net_force = spring.force+spring2.force\n",
    "    bob.mom += net_force*dt\n",
    "    bob.pos += bob.mom*dt/bob.mass\n",
    "#    \n",
    "# Plot the x-coordinate of the block as a function of time.\n",
    "#\n",
    "    spring.axis = bob.pos-wall.pos\n",
    "    spring2.axis = bob.pos-wall2.pos\n",
    "    xblock = bob.pos.x - spring.equil.x + wall.pos.x\n",
    "    drawit.plot(pos=(t,xblock))"
   ]
  },
  {
   "cell_type": "code",
   "execution_count": null,
   "metadata": {},
   "outputs": [],
   "source": []
  }
 ],
 "metadata": {
  "kernelspec": {
   "display_name": "VPython",
   "language": "python",
   "name": "vpython"
  },
  "language_info": {
   "codemirror_mode": {
    "name": "ipython",
    "version": 3
   },
   "file_extension": ".py",
   "mimetype": "text/x-python",
   "name": "python",
   "nbconvert_exporter": "python",
   "pygments_lexer": "ipython3",
   "version": "3.7.3"
  }
 },
 "nbformat": 4,
 "nbformat_minor": 2
}
