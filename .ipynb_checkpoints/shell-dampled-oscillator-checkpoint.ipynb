{
 "cells": [
  {
   "cell_type": "code",
   "execution_count": 1,
   "metadata": {},
   "outputs": [
    {
     "data": {
      "text/html": [
       "<div id=\"glowscript\" class=\"glowscript\"></div>"
      ],
      "text/plain": [
       "<IPython.core.display.HTML object>"
      ]
     },
     "metadata": {},
     "output_type": "display_data"
    },
    {
     "data": {
      "application/javascript": [
       "if (typeof Jupyter !== \"undefined\") { window.__context = { glowscript_container: $(\"#glowscript\").removeAttr(\"id\")};}else{ element.textContent = ' ';}"
      ],
      "text/plain": [
       "<IPython.core.display.Javascript object>"
      ]
     },
     "metadata": {},
     "output_type": "display_data"
    }
   ],
   "source": [
    "from math import *\n",
    "from vpython import *"
   ]
  },
  {
   "cell_type": "markdown",
   "metadata": {},
   "source": [
    "# Damped Oscillator Program\n",
    "We will modify our oscillator program to include a damping force."
   ]
  },
  {
   "cell_type": "code",
   "execution_count": 2,
   "metadata": {},
   "outputs": [
    {
     "data": {
      "text/html": [
       "<div id=\"glowscript\" class=\"glowscript\"></div>"
      ],
      "text/plain": [
       "<IPython.core.display.HTML object>"
      ]
     },
     "metadata": {},
     "output_type": "display_data"
    },
    {
     "data": {
      "application/javascript": [
       "if (typeof Jupyter !== \"undefined\") { window.__context = { glowscript_container: $(\"#glowscript\").removeAttr(\"id\")};}else{ element.textContent = ' ';}"
      ],
      "text/plain": [
       "<IPython.core.display.Javascript object>"
      ]
     },
     "metadata": {},
     "output_type": "display_data"
    },
    {
     "data": {
      "application/javascript": [
       "if (typeof Jupyter !== \"undefined\") {require.undef(\"nbextensions/vpython_libraries/glow.min\");}else{element.textContent = ' ';}"
      ],
      "text/plain": [
       "<IPython.core.display.Javascript object>"
      ]
     },
     "metadata": {},
     "output_type": "display_data"
    },
    {
     "data": {
      "application/javascript": [
       "if (typeof Jupyter !== \"undefined\") {require.undef(\"nbextensions/vpython_libraries/glowcomm\");}else{element.textContent = ' ';}"
      ],
      "text/plain": [
       "<IPython.core.display.Javascript object>"
      ]
     },
     "metadata": {},
     "output_type": "display_data"
    },
    {
     "data": {
      "application/javascript": [
       "if (typeof Jupyter !== \"undefined\") {require.undef(\"nbextensions/vpython_libraries/jquery-ui.custom.min\");}else{element.textContent = ' ';}"
      ],
      "text/plain": [
       "<IPython.core.display.Javascript object>"
      ]
     },
     "metadata": {},
     "output_type": "display_data"
    },
    {
     "data": {
      "application/javascript": [
       "if (typeof Jupyter !== \"undefined\") {require([\"nbextensions/vpython_libraries/glow.min\"], function(){console.log(\"GLOW LOADED\");});}else{element.textContent = ' ';}"
      ],
      "text/plain": [
       "<IPython.core.display.Javascript object>"
      ]
     },
     "metadata": {},
     "output_type": "display_data"
    },
    {
     "data": {
      "application/javascript": [
       "if (typeof Jupyter !== \"undefined\") {require([\"nbextensions/vpython_libraries/glowcomm\"], function(){console.log(\"GLOWCOMM LOADED\");});}else{element.textContent = ' ';}"
      ],
      "text/plain": [
       "<IPython.core.display.Javascript object>"
      ]
     },
     "metadata": {},
     "output_type": "display_data"
    },
    {
     "data": {
      "application/javascript": [
       "if (typeof Jupyter !== \"undefined\") {require([\"nbextensions/vpython_libraries/jquery-ui.custom.min\"], function(){console.log(\"JQUERY LOADED\");});}else{element.textContent = ' ';}"
      ],
      "text/plain": [
       "<IPython.core.display.Javascript object>"
      ]
     },
     "metadata": {},
     "output_type": "display_data"
    },
    {
     "name": "stdout",
     "output_type": "stream",
     "text": [
      "Damped Mass on a Spring\n",
      "Expected Period (sec) 1.062052159122106\n",
      "Actual Period   (sec) 1.060000000000354\n",
      "All Done\n"
     ]
    }
   ],
   "source": [
    "#\n",
    "# Set program constants\n",
    "#\n",
    "BobMass = 0.020 # kilograms\n",
    "SpringConstant = 0.7 # newtons/meter\n",
    "DampingBeta = 0.03\n",
    "InitialStretch = 20.0e-2 # meters\n",
    "InitialDrivingForce = vector(0.15 * SpringConstant * InitialStretch, 0, 0)\n",
    "DrivingFrequency = sqrt(SpringConstant / BobMass)\n",
    "EquilLength = 50.0e-2 # meters\n",
    "ExpectedPeriod = 2*pi*sqrt(BobMass/SpringConstant)\n",
    "#\n",
    "scene2 = canvas(title='Damped Oscillator',caption='Animated Display',\n",
    "     center=vector(0.50,0,0), background=color.white)\n",
    "#\n",
    "bob    = sphere(pos=vector(0,0,0),radius=0.05,color=color.red)\n",
    "wall   = box(pos=vector(0,0,0),size=vector(0.05,.1,.1),color=color.blue)\n",
    "spring = helix(pos=wall.pos,axis=bob.pos-wall.pos,radius=0.01,thickness=.004,coils=10,color=color.green)\n",
    "#\n",
    "# equilibrium position of the end of the spring.\n",
    "#\n",
    "length  = vector(EquilLength,0,0)\n",
    "stretch = vector(InitialStretch,0,0)\n",
    "#\n",
    "# Set the initial position of the bob\n",
    "#\n",
    "bob.pos = wall.pos + length + stretch\n",
    "bob.mom  = vector(0,0,0)\n",
    "#\n",
    "# Input Parameters needed in the program. Be sure to\n",
    "# choose sensible values.\n",
    "#\n",
    "bob.mass = BobMass\n",
    "spring.ks  = SpringConstant\n",
    "beta = DampingBeta\n",
    "#\n",
    "print('Damped Mass on a Spring')\n",
    "#\n",
    "# Time step and total elapsed time\n",
    "#\n",
    "dt = 0.002\n",
    "t  = 0.0\n",
    "#\n",
    "# Used to look for zero crossings to measure the period.\n",
    "#\n",
    "told = 0.0\n",
    "xold = bob.pos.x\n",
    "#\n",
    "# Setup a graph window to plot things in\n",
    "#\n",
    "s='<b>Mass and Spring: Graph</b>'\n",
    "#\n",
    "# Move the mouse over the graph to explore its interactivity.\n",
    "# Drag a rectangle in the graph to zoom. Examine the icons at the upper right.\n",
    "# Click the \"Reset axes\" icon to restore. Drag along the bottom or left to pan.\n",
    "#\n",
    "graph(title=s, xtitle='Time', ytitle='Energy',xmax=10.0, ymax=2e-2, ymin=-0.5e-2, \n",
    "      x=0, y=500, width=500, height=300)\n",
    "#\n",
    "drawTE = gcurve(color=color.red, label='Total Energy')\n",
    "drawKE = gcurve(color=color.green, label='Kinetic Energy')\n",
    "drawPE = gcurve(color=color.magenta, label='Spring-Potential Energy')\n",
    "#\n",
    "#\n",
    "while(t<10):\n",
    "    rate(100)\n",
    "    t += dt \n",
    "#\n",
    "#    spring.stretch = bob.pos-wall.pos\n",
    "#\n",
    "    dampingForce = -DampingBeta * bob.mom / bob.mass\n",
    "    drivingForce = -InitialDrivingForce * cos(DrivingFrequency*t)\n",
    "    stretch = bob.pos - length\n",
    "    spring.force = -spring.ks * stretch\n",
    "    netForce = spring.force + dampingForce + drivingForce\n",
    "    bob.mom += netForce * dt\n",
    "    bob.pos += bob.mom * dt / bob.mass\n",
    "    spring.axis = bob.pos - wall.pos\n",
    "#\n",
    "# Check for a zero crossing\n",
    "#\n",
    "    xnew = bob.pos.x - wall.pos.x - length.x\n",
    "    if xnew*xold <= 0:\n",
    "        period = 2*(t - told)\n",
    "        if told != 0:\n",
    "            scene2.caption=('Expected period is',ExpectedPeriod,' actual period is',period,'.')\n",
    "        told = t\n",
    "    xold = xnew\n",
    "#\n",
    "# Plot the energy of the block as a function of time.\n",
    "#\n",
    "    KE = mag2(bob.mom) / (2 * bob.mass)\n",
    "    PE = spring.ks * mag2(stretch) / 2\n",
    "    TE = KE + PE\n",
    "    drawTE.plot(pos=(t,TE))\n",
    "    drawKE.plot(pos=(t,KE))\n",
    "    drawPE.plot(pos=(t,PE))\n",
    "#\n",
    "print(\"Expected Period (sec)\",ExpectedPeriod)\n",
    "print(\"Actual Period   (sec)\",period)\n",
    "print('All Done')"
   ]
  }
 ],
 "metadata": {
  "kernelspec": {
   "display_name": "VPython",
   "language": "python",
   "name": "vpython"
  },
  "language_info": {
   "codemirror_mode": {
    "name": "ipython",
    "version": 3
   },
   "file_extension": ".py",
   "mimetype": "text/x-python",
   "name": "python",
   "nbconvert_exporter": "python",
   "pygments_lexer": "ipython3",
   "version": "3.7.3"
  }
 },
 "nbformat": 4,
 "nbformat_minor": 2
}
