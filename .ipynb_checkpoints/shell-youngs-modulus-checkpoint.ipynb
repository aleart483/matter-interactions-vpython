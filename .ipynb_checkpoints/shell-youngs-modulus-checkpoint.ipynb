{
 "cells": [
  {
   "cell_type": "markdown",
   "metadata": {},
   "source": [
    "# Young's Modulus Data Analysis"
   ]
  },
  {
   "cell_type": "code",
   "execution_count": 1,
   "metadata": {
    "ExecuteTime": {
     "end_time": "2019-09-08T20:32:25.702884Z",
     "start_time": "2019-09-08T20:32:25.174098Z"
    }
   },
   "outputs": [],
   "source": [
    "# Import relevant packages, assign convenient aliases\n",
    "import pandas as pd\n",
    "import matplotlib.pyplot as plt\n",
    "import sklearn.linear_model"
   ]
  },
  {
   "cell_type": "markdown",
   "metadata": {},
   "source": [
    "## 3.S41"
   ]
  },
  {
   "cell_type": "code",
   "execution_count": 2,
   "metadata": {
    "ExecuteTime": {
     "end_time": "2019-09-08T20:32:25.747568Z",
     "start_time": "2019-09-08T20:32:25.704846Z"
    }
   },
   "outputs": [
    {
     "data": {
      "text/html": [
       "<div>\n",
       "<style scoped>\n",
       "    .dataframe tbody tr th:only-of-type {\n",
       "        vertical-align: middle;\n",
       "    }\n",
       "\n",
       "    .dataframe tbody tr th {\n",
       "        vertical-align: top;\n",
       "    }\n",
       "\n",
       "    .dataframe thead th {\n",
       "        text-align: right;\n",
       "    }\n",
       "</style>\n",
       "<table border=\"1\" class=\"dataframe\">\n",
       "  <thead>\n",
       "    <tr style=\"text-align: right;\">\n",
       "      <th></th>\n",
       "      <th>Mass</th>\n",
       "      <th>Scale Reading</th>\n",
       "      <th>Stretch</th>\n",
       "      <th>Stress</th>\n",
       "      <th>Strain</th>\n",
       "      <th>Stress/Strain</th>\n",
       "      <th>Unnamed: 6</th>\n",
       "      <th>Diameter</th>\n",
       "      <th>Area</th>\n",
       "      <th>Length</th>\n",
       "    </tr>\n",
       "  </thead>\n",
       "  <tbody>\n",
       "    <tr>\n",
       "      <th>0</th>\n",
       "      <td>1</td>\n",
       "      <td>0.021</td>\n",
       "      <td>0.001</td>\n",
       "      <td>5.551324e+06</td>\n",
       "      <td>0.0005</td>\n",
       "      <td>1.110000e+10</td>\n",
       "      <td>NaN</td>\n",
       "      <td>0.0015</td>\n",
       "      <td>0.000002</td>\n",
       "      <td>2.0</td>\n",
       "    </tr>\n",
       "    <tr>\n",
       "      <th>1</th>\n",
       "      <td>2</td>\n",
       "      <td>0.022</td>\n",
       "      <td>0.002</td>\n",
       "      <td>1.110265e+07</td>\n",
       "      <td>0.0010</td>\n",
       "      <td>1.110000e+10</td>\n",
       "      <td>NaN</td>\n",
       "      <td>NaN</td>\n",
       "      <td>NaN</td>\n",
       "      <td>NaN</td>\n",
       "    </tr>\n",
       "    <tr>\n",
       "      <th>2</th>\n",
       "      <td>3</td>\n",
       "      <td>0.024</td>\n",
       "      <td>0.004</td>\n",
       "      <td>1.665397e+07</td>\n",
       "      <td>0.0020</td>\n",
       "      <td>8.330000e+09</td>\n",
       "      <td>NaN</td>\n",
       "      <td>NaN</td>\n",
       "      <td>NaN</td>\n",
       "      <td>NaN</td>\n",
       "    </tr>\n",
       "    <tr>\n",
       "      <th>3</th>\n",
       "      <td>4</td>\n",
       "      <td>0.026</td>\n",
       "      <td>0.006</td>\n",
       "      <td>2.220530e+07</td>\n",
       "      <td>0.0030</td>\n",
       "      <td>7.400000e+09</td>\n",
       "      <td>NaN</td>\n",
       "      <td>NaN</td>\n",
       "      <td>NaN</td>\n",
       "      <td>NaN</td>\n",
       "    </tr>\n",
       "    <tr>\n",
       "      <th>4</th>\n",
       "      <td>5</td>\n",
       "      <td>0.028</td>\n",
       "      <td>0.008</td>\n",
       "      <td>2.775662e+07</td>\n",
       "      <td>0.0040</td>\n",
       "      <td>6.940000e+09</td>\n",
       "      <td>NaN</td>\n",
       "      <td>NaN</td>\n",
       "      <td>NaN</td>\n",
       "      <td>NaN</td>\n",
       "    </tr>\n",
       "    <tr>\n",
       "      <th>5</th>\n",
       "      <td>6</td>\n",
       "      <td>0.030</td>\n",
       "      <td>0.010</td>\n",
       "      <td>3.330795e+07</td>\n",
       "      <td>0.0050</td>\n",
       "      <td>6.660000e+09</td>\n",
       "      <td>NaN</td>\n",
       "      <td>NaN</td>\n",
       "      <td>NaN</td>\n",
       "      <td>NaN</td>\n",
       "    </tr>\n",
       "    <tr>\n",
       "      <th>6</th>\n",
       "      <td>7</td>\n",
       "      <td>0.033</td>\n",
       "      <td>0.013</td>\n",
       "      <td>3.885927e+07</td>\n",
       "      <td>0.0065</td>\n",
       "      <td>5.980000e+09</td>\n",
       "      <td>NaN</td>\n",
       "      <td>NaN</td>\n",
       "      <td>NaN</td>\n",
       "      <td>NaN</td>\n",
       "    </tr>\n",
       "    <tr>\n",
       "      <th>7</th>\n",
       "      <td>8</td>\n",
       "      <td>0.036</td>\n",
       "      <td>0.016</td>\n",
       "      <td>4.441060e+07</td>\n",
       "      <td>0.0080</td>\n",
       "      <td>5.550000e+09</td>\n",
       "      <td>NaN</td>\n",
       "      <td>NaN</td>\n",
       "      <td>NaN</td>\n",
       "      <td>NaN</td>\n",
       "    </tr>\n",
       "    <tr>\n",
       "      <th>8</th>\n",
       "      <td>9</td>\n",
       "      <td>0.038</td>\n",
       "      <td>0.018</td>\n",
       "      <td>4.996192e+07</td>\n",
       "      <td>0.0090</td>\n",
       "      <td>5.550000e+09</td>\n",
       "      <td>NaN</td>\n",
       "      <td>NaN</td>\n",
       "      <td>NaN</td>\n",
       "      <td>NaN</td>\n",
       "    </tr>\n",
       "    <tr>\n",
       "      <th>9</th>\n",
       "      <td>10</td>\n",
       "      <td>0.041</td>\n",
       "      <td>0.021</td>\n",
       "      <td>5.551324e+07</td>\n",
       "      <td>0.0105</td>\n",
       "      <td>5.290000e+09</td>\n",
       "      <td>NaN</td>\n",
       "      <td>NaN</td>\n",
       "      <td>NaN</td>\n",
       "      <td>NaN</td>\n",
       "    </tr>\n",
       "    <tr>\n",
       "      <th>10</th>\n",
       "      <td>11</td>\n",
       "      <td>0.044</td>\n",
       "      <td>0.024</td>\n",
       "      <td>6.106457e+07</td>\n",
       "      <td>0.0120</td>\n",
       "      <td>5.090000e+09</td>\n",
       "      <td>NaN</td>\n",
       "      <td>NaN</td>\n",
       "      <td>NaN</td>\n",
       "      <td>NaN</td>\n",
       "    </tr>\n",
       "    <tr>\n",
       "      <th>11</th>\n",
       "      <td>12</td>\n",
       "      <td>0.048</td>\n",
       "      <td>0.028</td>\n",
       "      <td>6.661589e+07</td>\n",
       "      <td>0.0140</td>\n",
       "      <td>4.760000e+09</td>\n",
       "      <td>NaN</td>\n",
       "      <td>NaN</td>\n",
       "      <td>NaN</td>\n",
       "      <td>NaN</td>\n",
       "    </tr>\n",
       "    <tr>\n",
       "      <th>12</th>\n",
       "      <td>13</td>\n",
       "      <td>0.053</td>\n",
       "      <td>0.033</td>\n",
       "      <td>7.216722e+07</td>\n",
       "      <td>0.0165</td>\n",
       "      <td>4.370000e+09</td>\n",
       "      <td>NaN</td>\n",
       "      <td>NaN</td>\n",
       "      <td>NaN</td>\n",
       "      <td>NaN</td>\n",
       "    </tr>\n",
       "    <tr>\n",
       "      <th>13</th>\n",
       "      <td>14</td>\n",
       "      <td>0.059</td>\n",
       "      <td>0.039</td>\n",
       "      <td>7.771854e+07</td>\n",
       "      <td>0.0195</td>\n",
       "      <td>3.990000e+09</td>\n",
       "      <td>NaN</td>\n",
       "      <td>NaN</td>\n",
       "      <td>NaN</td>\n",
       "      <td>NaN</td>\n",
       "    </tr>\n",
       "    <tr>\n",
       "      <th>14</th>\n",
       "      <td>15</td>\n",
       "      <td>0.068</td>\n",
       "      <td>0.048</td>\n",
       "      <td>8.326987e+07</td>\n",
       "      <td>0.0240</td>\n",
       "      <td>3.470000e+09</td>\n",
       "      <td>NaN</td>\n",
       "      <td>NaN</td>\n",
       "      <td>NaN</td>\n",
       "      <td>NaN</td>\n",
       "    </tr>\n",
       "  </tbody>\n",
       "</table>\n",
       "</div>"
      ],
      "text/plain": [
       "    Mass  Scale Reading  Stretch        Stress  Strain  Stress/Strain  \\\n",
       "0      1          0.021    0.001  5.551324e+06  0.0005   1.110000e+10   \n",
       "1      2          0.022    0.002  1.110265e+07  0.0010   1.110000e+10   \n",
       "2      3          0.024    0.004  1.665397e+07  0.0020   8.330000e+09   \n",
       "3      4          0.026    0.006  2.220530e+07  0.0030   7.400000e+09   \n",
       "4      5          0.028    0.008  2.775662e+07  0.0040   6.940000e+09   \n",
       "5      6          0.030    0.010  3.330795e+07  0.0050   6.660000e+09   \n",
       "6      7          0.033    0.013  3.885927e+07  0.0065   5.980000e+09   \n",
       "7      8          0.036    0.016  4.441060e+07  0.0080   5.550000e+09   \n",
       "8      9          0.038    0.018  4.996192e+07  0.0090   5.550000e+09   \n",
       "9     10          0.041    0.021  5.551324e+07  0.0105   5.290000e+09   \n",
       "10    11          0.044    0.024  6.106457e+07  0.0120   5.090000e+09   \n",
       "11    12          0.048    0.028  6.661589e+07  0.0140   4.760000e+09   \n",
       "12    13          0.053    0.033  7.216722e+07  0.0165   4.370000e+09   \n",
       "13    14          0.059    0.039  7.771854e+07  0.0195   3.990000e+09   \n",
       "14    15          0.068    0.048  8.326987e+07  0.0240   3.470000e+09   \n",
       "\n",
       "    Unnamed: 6  Diameter      Area  Length  \n",
       "0          NaN    0.0015  0.000002     2.0  \n",
       "1          NaN       NaN       NaN     NaN  \n",
       "2          NaN       NaN       NaN     NaN  \n",
       "3          NaN       NaN       NaN     NaN  \n",
       "4          NaN       NaN       NaN     NaN  \n",
       "5          NaN       NaN       NaN     NaN  \n",
       "6          NaN       NaN       NaN     NaN  \n",
       "7          NaN       NaN       NaN     NaN  \n",
       "8          NaN       NaN       NaN     NaN  \n",
       "9          NaN       NaN       NaN     NaN  \n",
       "10         NaN       NaN       NaN     NaN  \n",
       "11         NaN       NaN       NaN     NaN  \n",
       "12         NaN       NaN       NaN     NaN  \n",
       "13         NaN       NaN       NaN     NaN  \n",
       "14         NaN       NaN       NaN     NaN  "
      ]
     },
     "execution_count": 2,
     "metadata": {},
     "output_type": "execute_result"
    }
   ],
   "source": [
    "# Load the Young's Modulus CSV file and display data\n",
    "data = pd.read_csv('M&I_youngs_modulus_data - Sheet1.csv')\n",
    "\n",
    "data"
   ]
  },
  {
   "cell_type": "code",
   "execution_count": 3,
   "metadata": {
    "ExecuteTime": {
     "end_time": "2019-09-08T20:32:25.975857Z",
     "start_time": "2019-09-08T20:32:25.749172Z"
    }
   },
   "outputs": [
    {
     "data": {
      "text/plain": [
       "Text(0.5, 1.0, 'Stress vs. Strain')"
      ]
     },
     "execution_count": 3,
     "metadata": {},
     "output_type": "execute_result"
    },
    {
     "data": {
      "image/png": "[encoded data removed]",
      "text/plain": [
       "<Figure size 432x288 with 1 Axes>"
      ]
     },
     "metadata": {
      "needs_background": "light"
     },
     "output_type": "display_data"
    }
   ],
   "source": [
    "# Plot Stress vs. Strain\n",
    "x = data['Strain'].values\n",
    "y = data['Stress'].values\n",
    "\n",
    "plt.plot(x, y, '.')\n",
    "plt.xlabel('Strain')\n",
    "plt.ylabel('Stress (N/m^2)')\n",
    "plt.title('Stress vs. Strain')"
   ]
  },
  {
   "cell_type": "code",
   "execution_count": 4,
   "metadata": {
    "ExecuteTime": {
     "end_time": "2019-09-08T20:32:25.983194Z",
     "start_time": "2019-09-08T20:32:25.977049Z"
    }
   },
   "outputs": [
    {
     "name": "stdout",
     "output_type": "stream",
     "text": [
      "coefficient:[4.37315784e+09]\n"
     ]
    }
   ],
   "source": [
    "# Fit a linear regression\n",
    "\n",
    "# Create a LinearRegression object to fit (Stress) = A*(Strain)\n",
    "# We turn off the option for a y_intercept because 0 stress should imply 0 strain\n",
    "reg = sklearn.linear_model.LinearRegression(fit_intercept=False)\n",
    "\n",
    "# Fit using our stress, strain data\n",
    "reg.fit(x.reshape(-1,1),y) # sklearn requires a certain input shape\n",
    "\n",
    "# Print the best-fit linear regression coefficient.\n",
    "print('coefficient:%s'%reg.coef_)"
   ]
  },
  {
   "cell_type": "code",
   "execution_count": 5,
   "metadata": {
    "ExecuteTime": {
     "end_time": "2019-09-08T20:32:26.074115Z",
     "start_time": "2019-09-08T20:32:25.984392Z"
    }
   },
   "outputs": [
    {
     "data": {
      "text/plain": [
       "[<matplotlib.lines.Line2D at 0x1a18a78828>]"
      ]
     },
     "execution_count": 5,
     "metadata": {},
     "output_type": "execute_result"
    },
    {
     "data": {
      "image/png": "[encoded data removed]",
      "text/plain": [
       "<Figure size 432x288 with 1 Axes>"
      ]
     },
     "metadata": {
      "needs_background": "light"
     },
     "output_type": "display_data"
    }
   ],
   "source": [
    "# Plot the linear regression on top of the experimental data\n",
    "\n",
    "# Plot the original data\n",
    "plt.plot(x, y, '.')\n",
    "plt.xlabel('Strain')\n",
    "plt.ylabel('Stress (N/m^2)')\n",
    "plt.title('Stress vs. Strain')\n",
    "\n",
    "# Use the linear regression to predict Stress values from the observed Strain values\n",
    "y_hat = reg.predict(x.reshape(-1,1))\n",
    "\n",
    "# Plot the regression-predicted datapoints as a line\n",
    "plt.plot(x, y_hat, '-')"
   ]
  },
  {
   "cell_type": "markdown",
   "metadata": {},
   "source": [
    "## 3.S42"
   ]
  },
  {
   "cell_type": "markdown",
   "metadata": {},
   "source": [
    "### 3.S42 (a)"
   ]
  },
  {
   "cell_type": "code",
   "execution_count": 6,
   "metadata": {
    "ExecuteTime": {
     "end_time": "2019-09-08T20:32:26.078078Z",
     "start_time": "2019-09-08T20:32:26.075839Z"
    }
   },
   "outputs": [
    {
     "data": {
      "text/html": [
       "<div>\n",
       "<style scoped>\n",
       "    .dataframe tbody tr th:only-of-type {\n",
       "        vertical-align: middle;\n",
       "    }\n",
       "\n",
       "    .dataframe tbody tr th {\n",
       "        vertical-align: top;\n",
       "    }\n",
       "\n",
       "    .dataframe thead th {\n",
       "        text-align: right;\n",
       "    }\n",
       "</style>\n",
       "<table border=\"1\" class=\"dataframe\">\n",
       "  <thead>\n",
       "    <tr style=\"text-align: right;\">\n",
       "      <th></th>\n",
       "      <th>Mass</th>\n",
       "      <th>Force</th>\n",
       "      <th>Stretch 1</th>\n",
       "      <th>Spring Constant 1</th>\n",
       "      <th>Stretch 2</th>\n",
       "      <th>Spring Constant 2</th>\n",
       "      <th>Stretch Effective</th>\n",
       "      <th>Spring Constant Effective</th>\n",
       "    </tr>\n",
       "  </thead>\n",
       "  <tbody>\n",
       "    <tr>\n",
       "      <th>0</th>\n",
       "      <td>0.021</td>\n",
       "      <td>0.206</td>\n",
       "      <td>0.108</td>\n",
       "      <td>1.91</td>\n",
       "      <td>0.193</td>\n",
       "      <td>1.070</td>\n",
       "      <td>0.368</td>\n",
       "      <td>0.560</td>\n",
       "    </tr>\n",
       "    <tr>\n",
       "      <th>1</th>\n",
       "      <td>0.054</td>\n",
       "      <td>0.530</td>\n",
       "      <td>0.280</td>\n",
       "      <td>1.89</td>\n",
       "      <td>0.644</td>\n",
       "      <td>0.823</td>\n",
       "      <td>1.013</td>\n",
       "      <td>0.523</td>\n",
       "    </tr>\n",
       "    <tr>\n",
       "      <th>2</th>\n",
       "      <td>0.084</td>\n",
       "      <td>0.824</td>\n",
       "      <td>0.424</td>\n",
       "      <td>1.94</td>\n",
       "      <td>1.053</td>\n",
       "      <td>0.783</td>\n",
       "      <td>1.543</td>\n",
       "      <td>0.534</td>\n",
       "    </tr>\n",
       "  </tbody>\n",
       "</table>\n",
       "</div>"
      ],
      "text/plain": [
       "    Mass  Force  Stretch 1  Spring Constant 1  Stretch 2  Spring Constant 2  \\\n",
       "0  0.021  0.206      0.108               1.91      0.193              1.070   \n",
       "1  0.054  0.530      0.280               1.89      0.644              0.823   \n",
       "2  0.084  0.824      0.424               1.94      1.053              0.783   \n",
       "\n",
       "   Stretch Effective  Spring Constant Effective  \n",
       "0              0.368                      0.560  \n",
       "1              1.013                      0.523  \n",
       "2              1.543                      0.534  "
      ]
     },
     "execution_count": 6,
     "metadata": {},
     "output_type": "execute_result"
    }
   ],
   "source": [
    "# Load the spring constant CSV file and display data\n",
    "data = pd.read_csv('M&I_youngs_modulus_data_a - Sheet1.csv')\n",
    "\n",
    "data"
   ]
  },
  {
   "cell_type": "code",
   "execution_count": 7,
   "metadata": {
    "ExecuteTime": {
     "end_time": "2019-09-08T20:32:26.082195Z",
     "start_time": "2019-09-08T20:32:26.080140Z"
    }
   },
   "outputs": [
    {
     "data": {
      "text/plain": [
       "Text(0.5, 1.0, 'Force vs. Stretch 1')"
      ]
     },
     "execution_count": 7,
     "metadata": {},
     "output_type": "execute_result"
    },
    {
     "data": {
      "image/png": "[encoded data removed]",
      "text/plain": [
       "<Figure size 432x288 with 1 Axes>"
      ]
     },
     "metadata": {
      "needs_background": "light"
     },
     "output_type": "display_data"
    }
   ],
   "source": [
    "# Plot Stretch vs. Force (with correct axis labels and title!)\n",
    "x = data['Stretch 1'].values\n",
    "y = data['Force'].values\n",
    "\n",
    "plt.plot(x, y, '.')\n",
    "plt.xlabel('Stretch (m)')\n",
    "plt.ylabel('Force (N)')\n",
    "plt.title('Force vs. Stretch 1')"
   ]
  },
  {
   "cell_type": "code",
   "execution_count": 8,
   "metadata": {
    "ExecuteTime": {
     "end_time": "2019-09-08T20:32:26.086060Z",
     "start_time": "2019-09-08T20:32:26.083885Z"
    }
   },
   "outputs": [
    {
     "name": "stdout",
     "output_type": "stream",
     "text": [
      "coefficient:[1.92715683]\n"
     ]
    }
   ],
   "source": [
    "# Fit a linear regression\n",
    "\n",
    "# Create a LinearRegression object to fit (Force) = A*(Stretch)\n",
    "# We turn off the option for a y_intercept because 0 force should imply 0 stretch\n",
    "reg = sklearn.linear_model.LinearRegression(fit_intercept=False)\n",
    "\n",
    "# Fit using our force, stretch data\n",
    "reg.fit(x.reshape(-1,1),y) # sklearn requires a certain input shape\n",
    "\n",
    "# Print the best-fit linear regression coefficient.\n",
    "print('coefficient:%s'%reg.coef_)"
   ]
  },
  {
   "cell_type": "code",
   "execution_count": 9,
   "metadata": {
    "ExecuteTime": {
     "end_time": "2019-09-08T20:32:26.089535Z",
     "start_time": "2019-09-08T20:32:26.087549Z"
    }
   },
   "outputs": [
    {
     "data": {
      "text/plain": [
       "[<matplotlib.lines.Line2D at 0x1a18bf04a8>]"
      ]
     },
     "execution_count": 9,
     "metadata": {},
     "output_type": "execute_result"
    },
    {
     "data": {
      "image/png": "[encoded data removed]",
      "text/plain": [
       "<Figure size 432x288 with 1 Axes>"
      ]
     },
     "metadata": {
      "needs_background": "light"
     },
     "output_type": "display_data"
    }
   ],
   "source": [
    "# Plot the linear regression on top of the experimental data\n",
    "\n",
    "# Plot the original data\n",
    "plt.plot(x, y, '.')\n",
    "plt.xlabel('Stretch (m)')\n",
    "plt.ylabel('Force (N)')\n",
    "plt.title('Force vs. Stretch 1')\n",
    "\n",
    "# Use the linear regression to predict Force values from the observed Stretch values\n",
    "y_hat = reg.predict(x.reshape(-1,1))\n",
    "\n",
    "# Plot the regression-predicted datapoints as a line\n",
    "plt.plot(x, y_hat, '-')"
   ]
  },
  {
   "cell_type": "markdown",
   "metadata": {},
   "source": [
    "### 3.S42 (b)"
   ]
  },
  {
   "cell_type": "code",
   "execution_count": 10,
   "metadata": {
    "ExecuteTime": {
     "end_time": "2019-09-08T20:32:26.109418Z",
     "start_time": "2019-09-08T20:32:26.107600Z"
    }
   },
   "outputs": [
    {
     "data": {
      "text/html": [
       "<div>\n",
       "<style scoped>\n",
       "    .dataframe tbody tr th:only-of-type {\n",
       "        vertical-align: middle;\n",
       "    }\n",
       "\n",
       "    .dataframe tbody tr th {\n",
       "        vertical-align: top;\n",
       "    }\n",
       "\n",
       "    .dataframe thead th {\n",
       "        text-align: right;\n",
       "    }\n",
       "</style>\n",
       "<table border=\"1\" class=\"dataframe\">\n",
       "  <thead>\n",
       "    <tr style=\"text-align: right;\">\n",
       "      <th></th>\n",
       "      <th>Mass</th>\n",
       "      <th>Force</th>\n",
       "      <th>Stretch 1</th>\n",
       "      <th>Spring Constant 1</th>\n",
       "      <th>Stretch 2</th>\n",
       "      <th>Spring Constant 2</th>\n",
       "      <th>Stretch Effective</th>\n",
       "      <th>Spring Constant Effective</th>\n",
       "    </tr>\n",
       "  </thead>\n",
       "  <tbody>\n",
       "    <tr>\n",
       "      <th>0</th>\n",
       "      <td>0.021</td>\n",
       "      <td>0.206</td>\n",
       "      <td>0.108</td>\n",
       "      <td>1.91</td>\n",
       "      <td>0.193</td>\n",
       "      <td>1.070</td>\n",
       "      <td>0.368</td>\n",
       "      <td>0.560</td>\n",
       "    </tr>\n",
       "    <tr>\n",
       "      <th>1</th>\n",
       "      <td>0.054</td>\n",
       "      <td>0.530</td>\n",
       "      <td>0.280</td>\n",
       "      <td>1.89</td>\n",
       "      <td>0.644</td>\n",
       "      <td>0.823</td>\n",
       "      <td>1.013</td>\n",
       "      <td>0.523</td>\n",
       "    </tr>\n",
       "    <tr>\n",
       "      <th>2</th>\n",
       "      <td>0.084</td>\n",
       "      <td>0.824</td>\n",
       "      <td>0.424</td>\n",
       "      <td>1.94</td>\n",
       "      <td>1.053</td>\n",
       "      <td>0.783</td>\n",
       "      <td>1.543</td>\n",
       "      <td>0.534</td>\n",
       "    </tr>\n",
       "  </tbody>\n",
       "</table>\n",
       "</div>"
      ],
      "text/plain": [
       "    Mass  Force  Stretch 1  Spring Constant 1  Stretch 2  Spring Constant 2  \\\n",
       "0  0.021  0.206      0.108               1.91      0.193              1.070   \n",
       "1  0.054  0.530      0.280               1.89      0.644              0.823   \n",
       "2  0.084  0.824      0.424               1.94      1.053              0.783   \n",
       "\n",
       "   Stretch Effective  Spring Constant Effective  \n",
       "0              0.368                      0.560  \n",
       "1              1.013                      0.523  \n",
       "2              1.543                      0.534  "
      ]
     },
     "execution_count": 10,
     "metadata": {},
     "output_type": "execute_result"
    }
   ],
   "source": [
    "# Load the spring constant CSV file and display data\n",
    "data = pd.read_csv('M&I_youngs_modulus_data_a - Sheet1.csv')\n",
    "\n",
    "data"
   ]
  },
  {
   "cell_type": "code",
   "execution_count": 11,
   "metadata": {
    "ExecuteTime": {
     "end_time": "2019-09-08T20:32:26.113225Z",
     "start_time": "2019-09-08T20:32:26.110921Z"
    }
   },
   "outputs": [
    {
     "data": {
      "text/plain": [
       "Text(0.5, 1.0, 'Force vs. Stretch Effective')"
      ]
     },
     "execution_count": 11,
     "metadata": {},
     "output_type": "execute_result"
    },
    {
     "data": {
      "image/png": "[encoded data removed]",
      "text/plain": [
       "<Figure size 432x288 with 1 Axes>"
      ]
     },
     "metadata": {
      "needs_background": "light"
     },
     "output_type": "display_data"
    }
   ],
   "source": [
    "# Plot Stretch vs. Force (with correct axis labels and title!)\n",
    "x = data['Stretch Effective'].values\n",
    "y = data['Force'].values\n",
    "\n",
    "plt.plot(x, y, '.')\n",
    "plt.xlabel('Stretch (m)')\n",
    "plt.ylabel('Force (N)')\n",
    "plt.title('Force vs. Stretch Effective')"
   ]
  },
  {
   "cell_type": "code",
   "execution_count": 12,
   "metadata": {
    "ExecuteTime": {
     "end_time": "2019-09-08T20:32:26.101715Z",
     "start_time": "2019-09-08T20:32:26.098518Z"
    }
   },
   "outputs": [
    {
     "name": "stdout",
     "output_type": "stream",
     "text": [
      "coefficient:[0.53187321]\n"
     ]
    }
   ],
   "source": [
    "# Fit a linear regression\n",
    "\n",
    "# Create a LinearRegression object to fit (Force) = A*(Stretch)\n",
    "# We turn off the option for a y_intercept because 0 force should imply 0 stretch\n",
    "reg = sklearn.linear_model.LinearRegression(fit_intercept=False)\n",
    "\n",
    "# Fit using our force, stretch data\n",
    "reg.fit(x.reshape(-1,1),y) # sklearn requires a certain input shape\n",
    "\n",
    "# Print the best-fit linear regression coefficient.\n",
    "print('coefficient:%s'%reg.coef_)"
   ]
  },
  {
   "cell_type": "code",
   "execution_count": 13,
   "metadata": {
    "ExecuteTime": {
     "end_time": "2019-09-08T20:32:26.105772Z",
     "start_time": "2019-09-08T20:32:26.103784Z"
    }
   },
   "outputs": [
    {
     "data": {
      "text/plain": [
       "[<matplotlib.lines.Line2D at 0x1a18e2e898>]"
      ]
     },
     "execution_count": 13,
     "metadata": {},
     "output_type": "execute_result"
    },
    {
     "data": {
      "image/png": "[encoded data removed]",
      "text/plain": [
       "<Figure size 432x288 with 1 Axes>"
      ]
     },
     "metadata": {
      "needs_background": "light"
     },
     "output_type": "display_data"
    }
   ],
   "source": [
    "# Plot the linear regression on top of the experimental data\n",
    "\n",
    "# Plot the original data\n",
    "plt.plot(x, y, '.')\n",
    "plt.xlabel('Stretch (m)')\n",
    "plt.ylabel('Force (N)')\n",
    "plt.title('Force vs. Stretch Effective')\n",
    "\n",
    "# Use the linear regression to predict Force values from the observed Stretch values\n",
    "y_hat = reg.predict(x.reshape(-1,1))\n",
    "\n",
    "# Plot the regression-predicted datapoints as a line\n",
    "plt.plot(x, y_hat, '-')"
   ]
  },
  {
   "cell_type": "markdown",
   "metadata": {},
   "source": [
    "### 3.S42 (c)"
   ]
  },
  {
   "cell_type": "code",
   "execution_count": 14,
   "metadata": {
    "ExecuteTime": {
     "end_time": "2019-09-08T20:32:26.109418Z",
     "start_time": "2019-09-08T20:32:26.107600Z"
    }
   },
   "outputs": [
    {
     "data": {
      "text/html": [
       "<div>\n",
       "<style scoped>\n",
       "    .dataframe tbody tr th:only-of-type {\n",
       "        vertical-align: middle;\n",
       "    }\n",
       "\n",
       "    .dataframe tbody tr th {\n",
       "        vertical-align: top;\n",
       "    }\n",
       "\n",
       "    .dataframe thead th {\n",
       "        text-align: right;\n",
       "    }\n",
       "</style>\n",
       "<table border=\"1\" class=\"dataframe\">\n",
       "  <thead>\n",
       "    <tr style=\"text-align: right;\">\n",
       "      <th></th>\n",
       "      <th>Mass</th>\n",
       "      <th>Period (M)</th>\n",
       "      <th>Amplitude</th>\n",
       "      <th>Period (A)</th>\n",
       "    </tr>\n",
       "  </thead>\n",
       "  <tbody>\n",
       "    <tr>\n",
       "      <th>0</th>\n",
       "      <td>0.021</td>\n",
       "      <td>0.60</td>\n",
       "      <td>0.07</td>\n",
       "      <td>1.07</td>\n",
       "    </tr>\n",
       "    <tr>\n",
       "      <th>1</th>\n",
       "      <td>0.054</td>\n",
       "      <td>1.07</td>\n",
       "      <td>0.10</td>\n",
       "      <td>1.06</td>\n",
       "    </tr>\n",
       "    <tr>\n",
       "      <th>2</th>\n",
       "      <td>0.084</td>\n",
       "      <td>1.31</td>\n",
       "      <td>0.13</td>\n",
       "      <td>1.06</td>\n",
       "    </tr>\n",
       "  </tbody>\n",
       "</table>\n",
       "</div>"
      ],
      "text/plain": [
       "    Mass  Period (M)  Amplitude  Period (A)\n",
       "0  0.021        0.60       0.07        1.07\n",
       "1  0.054        1.07       0.10        1.06\n",
       "2  0.084        1.31       0.13        1.06"
      ]
     },
     "execution_count": 14,
     "metadata": {},
     "output_type": "execute_result"
    }
   ],
   "source": [
    "# Load the period vs mass CSV file and display data\n",
    "data = pd.read_csv('M&I_youngs_modulus_data_a - Sheet2.csv')\n",
    "\n",
    "data"
   ]
  },
  {
   "cell_type": "code",
   "execution_count": 15,
   "metadata": {
    "ExecuteTime": {
     "end_time": "2019-09-08T20:32:26.113225Z",
     "start_time": "2019-09-08T20:32:26.110921Z"
    }
   },
   "outputs": [
    {
     "data": {
      "text/plain": [
       "[<matplotlib.lines.Line2D at 0x1a18bd48d0>]"
      ]
     },
     "execution_count": 15,
     "metadata": {},
     "output_type": "execute_result"
    },
    {
     "data": {
      "image/png": "[encoded data removed]",
      "text/plain": [
       "<Figure size 432x288 with 1 Axes>"
      ]
     },
     "metadata": {
      "needs_background": "light"
     },
     "output_type": "display_data"
    }
   ],
   "source": [
    "# Plot Period vs. Mass\n",
    "x = data['Mass'].values\n",
    "y = data['Period (M)'].values\n",
    "\n",
    "# Plot the original data\n",
    "plt.plot(x, y, '.')\n",
    "plt.xlabel('Mass (kg)')\n",
    "plt.ylabel('Period (s)')\n",
    "plt.title('Period vs. Mass')\n",
    "\n",
    "reg = sklearn.linear_model.LinearRegression(fit_intercept=True)\n",
    "reg.fit(x.reshape(-1,1),y) # sklearn requires a certain input shape\n",
    "\n",
    "# Use the linear regression to predict Period values from the observed Mass values\n",
    "y_hat = reg.predict(x.reshape(-1,1))\n",
    "\n",
    "# Plot the regression-predicted datapoints as a line\n",
    "plt.plot(x, y_hat, '-')"
   ]
  },
  {
   "cell_type": "markdown",
   "metadata": {},
   "source": [
    "### 3.S42 (d)"
   ]
  },
  {
   "cell_type": "code",
   "execution_count": 16,
   "metadata": {
    "ExecuteTime": {
     "end_time": "2019-09-08T20:32:26.117117Z",
     "start_time": "2019-09-08T20:32:26.114846Z"
    }
   },
   "outputs": [
    {
     "data": {
      "text/html": [
       "<div>\n",
       "<style scoped>\n",
       "    .dataframe tbody tr th:only-of-type {\n",
       "        vertical-align: middle;\n",
       "    }\n",
       "\n",
       "    .dataframe tbody tr th {\n",
       "        vertical-align: top;\n",
       "    }\n",
       "\n",
       "    .dataframe thead th {\n",
       "        text-align: right;\n",
       "    }\n",
       "</style>\n",
       "<table border=\"1\" class=\"dataframe\">\n",
       "  <thead>\n",
       "    <tr style=\"text-align: right;\">\n",
       "      <th></th>\n",
       "      <th>Mass</th>\n",
       "      <th>Period (M)</th>\n",
       "      <th>Amplitude</th>\n",
       "      <th>Period (A)</th>\n",
       "    </tr>\n",
       "  </thead>\n",
       "  <tbody>\n",
       "    <tr>\n",
       "      <th>0</th>\n",
       "      <td>0.021</td>\n",
       "      <td>0.60</td>\n",
       "      <td>0.07</td>\n",
       "      <td>1.07</td>\n",
       "    </tr>\n",
       "    <tr>\n",
       "      <th>1</th>\n",
       "      <td>0.054</td>\n",
       "      <td>1.07</td>\n",
       "      <td>0.10</td>\n",
       "      <td>1.06</td>\n",
       "    </tr>\n",
       "    <tr>\n",
       "      <th>2</th>\n",
       "      <td>0.084</td>\n",
       "      <td>1.31</td>\n",
       "      <td>0.13</td>\n",
       "      <td>1.06</td>\n",
       "    </tr>\n",
       "  </tbody>\n",
       "</table>\n",
       "</div>"
      ],
      "text/plain": [
       "    Mass  Period (M)  Amplitude  Period (A)\n",
       "0  0.021        0.60       0.07        1.07\n",
       "1  0.054        1.07       0.10        1.06\n",
       "2  0.084        1.31       0.13        1.06"
      ]
     },
     "execution_count": 16,
     "metadata": {},
     "output_type": "execute_result"
    }
   ],
   "source": [
    "# Load the period vs amplitude CSV file and display data\n",
    "data = pd.read_csv('M&I_youngs_modulus_data_a - Sheet2.csv')\n",
    "\n",
    "data"
   ]
  },
  {
   "cell_type": "code",
   "execution_count": 17,
   "metadata": {
    "ExecuteTime": {
     "end_time": "2019-09-08T20:32:26.120105Z",
     "start_time": "2019-09-08T20:32:26.118383Z"
    }
   },
   "outputs": [
    {
     "data": {
      "text/plain": [
       "[<matplotlib.lines.Line2D at 0x1a18f7f748>]"
      ]
     },
     "execution_count": 17,
     "metadata": {},
     "output_type": "execute_result"
    },
    {
     "data": {
      "image/png": "[encoded data removed]",
      "text/plain": [
       "<Figure size 432x288 with 1 Axes>"
      ]
     },
     "metadata": {
      "needs_background": "light"
     },
     "output_type": "display_data"
    }
   ],
   "source": [
    "# Plot Period vs. Amplitude\n",
    "x = data['Amplitude'].values\n",
    "y = data['Period (A)'].values\n",
    "\n",
    "# Plot the original data\n",
    "plt.plot(x, y, '.')\n",
    "plt.xlabel('Amplitude (m)')\n",
    "plt.ylabel('Period (s)')\n",
    "plt.title('Period vs. Amplitude')\n",
    "\n",
    "reg = sklearn.linear_model.LinearRegression(fit_intercept=True)\n",
    "reg.fit(x.reshape(-1,1),y) # sklearn requires a certain input shape\n",
    "\n",
    "# Use the linear regression to predict Period values from the observed Mass values\n",
    "y_hat = reg.predict(x.reshape(-1,1))\n",
    "\n",
    "# Plot the regression-predicted datapoints as a line\n",
    "plt.plot(x, y_hat, '-')"
   ]
  }
 ],
 "metadata": {
  "kernelspec": {
   "display_name": "VPython",
   "language": "python",
   "name": "vpython"
  },
  "language_info": {
   "codemirror_mode": {
    "name": "ipython",
    "version": 3
   },
   "file_extension": ".py",
   "mimetype": "text/x-python",
   "name": "python",
   "nbconvert_exporter": "python",
   "pygments_lexer": "ipython3",
   "version": "3.7.3"
  },
  "toc": {
   "base_numbering": 1,
   "nav_menu": {},
   "number_sections": true,
   "sideBar": true,
   "skip_h1_title": false,
   "title_cell": "Table of Contents",
   "title_sidebar": "Contents",
   "toc_cell": false,
   "toc_position": {},
   "toc_section_display": true,
   "toc_window_display": false
  }
 },
 "nbformat": 4,
 "nbformat_minor": 2
}
