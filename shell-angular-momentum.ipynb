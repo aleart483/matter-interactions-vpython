{
 "cells": [
  {
   "cell_type": "code",
   "execution_count": 1,
   "metadata": {},
   "outputs": [
    {
     "data": {
      "text/html": [
       "<div id=\"glowscript\" class=\"glowscript\"></div>"
      ],
      "text/plain": [
       "<IPython.core.display.HTML object>"
      ]
     },
     "metadata": {},
     "output_type": "display_data"
    },
    {
     "data": {
      "application/javascript": [
       "if (typeof Jupyter !== \"undefined\") { window.__context = { glowscript_container: $(\"#glowscript\").removeAttr(\"id\")};}else{ element.textContent = ' ';}"
      ],
      "text/plain": [
       "<IPython.core.display.Javascript object>"
      ]
     },
     "metadata": {},
     "output_type": "display_data"
    }
   ],
   "source": [
    "from math import *\n",
    "from vpython import *"
   ]
  },
  {
   "cell_type": "markdown",
   "metadata": {},
   "source": [
    "# Angular Momentum in Planetary Orbits\n"
   ]
  },
  {
   "cell_type": "code",
   "execution_count": 2,
   "metadata": {},
   "outputs": [
    {
     "data": {
      "application/javascript": [
       "if (typeof Jupyter !== \"undefined\") {require.undef(\"nbextensions/vpython_libraries/glow.min\");}else{element.textContent = ' ';}"
      ],
      "text/plain": [
       "<IPython.core.display.Javascript object>"
      ]
     },
     "metadata": {},
     "output_type": "display_data"
    },
    {
     "data": {
      "application/javascript": [
       "if (typeof Jupyter !== \"undefined\") {require.undef(\"nbextensions/vpython_libraries/glowcomm\");}else{element.textContent = ' ';}"
      ],
      "text/plain": [
       "<IPython.core.display.Javascript object>"
      ]
     },
     "metadata": {},
     "output_type": "display_data"
    },
    {
     "data": {
      "application/javascript": [
       "if (typeof Jupyter !== \"undefined\") {require.undef(\"nbextensions/vpython_libraries/jquery-ui.custom.min\");}else{element.textContent = ' ';}"
      ],
      "text/plain": [
       "<IPython.core.display.Javascript object>"
      ]
     },
     "metadata": {},
     "output_type": "display_data"
    },
    {
     "data": {
      "application/javascript": [
       "if (typeof Jupyter !== \"undefined\") {require([\"nbextensions/vpython_libraries/glow.min\"], function(){console.log(\"GLOW LOADED\");});}else{element.textContent = ' ';}"
      ],
      "text/plain": [
       "<IPython.core.display.Javascript object>"
      ]
     },
     "metadata": {},
     "output_type": "display_data"
    },
    {
     "data": {
      "application/javascript": [
       "if (typeof Jupyter !== \"undefined\") {require([\"nbextensions/vpython_libraries/glowcomm\"], function(){console.log(\"GLOWCOMM LOADED\");});}else{element.textContent = ' ';}"
      ],
      "text/plain": [
       "<IPython.core.display.Javascript object>"
      ]
     },
     "metadata": {},
     "output_type": "display_data"
    },
    {
     "data": {
      "application/javascript": [
       "if (typeof Jupyter !== \"undefined\") {require([\"nbextensions/vpython_libraries/jquery-ui.custom.min\"], function(){console.log(\"JQUERY LOADED\");});}else{element.textContent = ' ';}"
      ],
      "text/plain": [
       "<IPython.core.display.Javascript object>"
      ]
     },
     "metadata": {},
     "output_type": "display_data"
    }
   ],
   "source": [
    "#\n",
    "# Distance from Sun to Earth: 149,597,870 km\n",
    "# Mass of the Sun:     1.989e30 kg\n",
    "# Radius of the Sun:    695.5e6 m\n",
    "# Mass of the Earth:   5.972e24 kg\n",
    "# Radius of the Earth   6.371e6 m\n",
    "# Distance Sun-Earth    149.578 e9 m\n",
    "# Length of a year      3.15 e7 seconds\n",
    "#\n",
    "# Set constants\n",
    "EarthSunDist = 149.578e9\n",
    "SpeedEarth   = 2 * pi * EarthSunDist / 3.15e7\n",
    "#\n",
    "# Make the radius of each object large enough to see them\n",
    "#\n",
    "earth=sphere(pos=vector(EarthSunDist,0,0),radius=1e7,color=color.green)\n",
    "sun=sphere(pos=vector(0,0,0),radius=7e9,color=color.yellow)\n",
    "#\n",
    "G = 6.67e-11\n",
    "earth.year = 3.15e7\n",
    "#\n",
    "earth.mass = 5.792e24\n",
    "sun.mass = 1.989e30\n",
    "#\n",
    "# We speed this up by 25% to make an eliiptical orbit. \n",
    "#\n",
    "earth.speed = 1.25 * SpeedEarth\n",
    "earth.momentum = earth.mass*vector(0,earth.speed,0)\n",
    "#\n",
    "#  We will now define three points about which we will compute the angular momentum.\n",
    "#  The first is the sun (force center), the second is inside the orbit and the third\n",
    "#  is outside the orbit.\n",
    "#\n",
    "point1 = sun.pos\n",
    "point2 = 0.5*(earth.pos-sun.pos)\n",
    "point3 = 2.0*(earth.pos-sun.pos)\n",
    "#\n",
    "#  We now create some arrows that will show the force acting on the Earth, the \n",
    "#  momentum of the Earth, and the angular momentum about each of the three points.\n",
    "#\n",
    "forcearrow = arrow(shaftwidth=3e9,color=color.red)\n",
    "momentumarrow = arrow(pos=earth.pos, axis=earth.momentum, shaftwidth=3e9,color=color.green)\n",
    "#\n",
    "angmomarr1 = arrow(pos=point1,shaftwidth=3e9,color=color.cyan)\n",
    "#angmomarr2 = arrow(pos=point2,shaftwidth=3e9,color=color.magenta)\n",
    "#angmomarr3 = arrow(pos=point3,shaftwidth=3e9,color=color.orange)\n",
    "#\n",
    "#  We can also define an arrow for the RungeLenz Vector\n",
    "#\n",
    "rungearr = arrow(pos=point1,shaftwidth=3e9,color=color.magenta)\n",
    "#\n",
    "# set the time step to be one day (in seconds)\n",
    "#\n",
    "earth.trail = curve(color=color.cyan) #,retain=250)\n",
    "#\n",
    "time = 0\n",
    "dt = 3600*12\n",
    "#\n",
    "# Make a graph of the magnitude of the momentum\n",
    "# Move the mouse over the graph to explore its interactivity.\n",
    "# Drag a rectangle in the graph to zoom. Examine the icons at the upper right.\n",
    "# Click the \"Reset axes\" icon to restore. Drag along the bottom or left to pan.\n",
    "#\n",
    "s='<b>Length of Angular Momentum</b>'\n",
    "graph(title=s, xtitle='Time', ytitle='Angular Momentum',xmin=0,xmax=6*earth.year, \n",
    "      ymax=5, ymin=0)\n",
    "#\n",
    "drawit1 = gcurve(color=color.cyan, label='Angular Momentum (L)')\n",
    "#drawit2 = gcurve(color=color.magenta, label='Inside Orbit')\n",
    "#drawit3 = gcurve(color=color.orange, label='Outside Orbit')\n",
    "drawit4 = gcurve(color=color.magenta, label=\"Runge-Lenz Vector (A)\")\n",
    "#\n",
    "# We will run until we have returned to the initial position. We will check by comparing the polar\n",
    "# angle of the objct:\n",
    "# earth.angle = atan2(earth.pos.y,earth,pos.x)\n",
    "# earth.oldangle = earth.angle\n",
    "#\n",
    "while time < 6*earth.year:\n",
    "    rate(100)\n",
    "#\n",
    "    time = time + dt\n",
    "#\n",
    "    r_hat = norm(earth.pos-sun.pos)\n",
    "    r2_mag = mag(earth.pos-sun.pos)**2\n",
    "    r3_mag = mag(earth.pos-sun.pos)**3\n",
    "    k = G * earth.mass * sun.mass\n",
    "    earth.force = -k * r_hat *(1/r2_mag + 1/r3_mag) \n",
    "#\n",
    "    earth.momentum += earth.force*dt\n",
    "    earth.pos      += earth.momentum*dt/earth.mass\n",
    "#\n",
    "# Compute the angular momentum about each point.\n",
    "#\n",
    "    earth.angmom1 = cross(earth.pos-point1, earth.momentum)\n",
    "    earth.angmom2 = cross(earth.pos-point2, earth.momentum)\n",
    "    earth.angmom3 = cross(earth.pos-point3, earth.momentum)\n",
    "#\n",
    "# Compute the Runge Lenz vector.\n",
    "#\n",
    "    rungelenz = cross(earth.momentum, earth.angmom1) - earth.mass*k*r_hat\n",
    "#\n",
    "    momentumarrow.pos = earth.pos\n",
    "    momentumarrow.axis = earth.momentum*1e-19\n",
    "#\n",
    "# set the arrow direction and length for the three angular momentum vectors.\n",
    "#\n",
    "    angmomarr1.axis = earth.angmom1*3e-30\n",
    "#    angmomarr2.axis = earth.angmom2*3e-30\n",
    "#    angmomarr3.axis = earth.angmom3*3e-30\n",
    "#\n",
    "    rungearr.axis = rungelenz*3e-59\n",
    "#\n",
    "# Update the force vector.\n",
    "#\n",
    "    forcearrow.pos  = earth.pos\n",
    "    forcearrow.axis = earth.force*1e-12\n",
    "#\n",
    "# add a point to the trail\n",
    "#\n",
    "    earth.trail.append(pos=earth.pos)\n",
    "#\n",
    "# Get the length and sign of the three angular momentum vectors for\n",
    "# graphing.\n",
    "#\n",
    "    mom1 = mag(earth.angmom1)*1e-40\n",
    "    if earth.angmom1.z < 0:\n",
    "        mom1 = -mom1\n",
    "#    mom2 = mag(earth.angmom2)*1e-40\n",
    "#    if earth.angmom2.z < 0:\n",
    "#        mom2 = -mom2\n",
    "#    mom3 = mag(earth.angmom3)*1e-40\n",
    "#    if earth.angmom3.z < 0:\n",
    "#        mom3 = -mom3\n",
    "    momA = mag(rungelenz)*1e-69\n",
    "#\n",
    "# Add the three lengths to the graph.\n",
    "#\n",
    "    drawit1.plot(pos=(time,mom1))\n",
    "#    drawit2.plot(pos=(time,mom2))\n",
    "#    drawit3.plot(pos=(time,mom3))\n",
    "    drawit4.plot(pos=(time,momA))"
   ]
  },
  {
   "cell_type": "code",
   "execution_count": null,
   "metadata": {},
   "outputs": [],
   "source": []
  }
 ],
 "metadata": {
  "kernelspec": {
   "display_name": "VPython",
   "language": "python",
   "name": "vpython"
  },
  "language_info": {
   "codemirror_mode": {
    "name": "ipython",
    "version": 3
   },
   "file_extension": ".py",
   "mimetype": "text/x-python",
   "name": "python",
   "nbconvert_exporter": "python",
   "pygments_lexer": "ipython3",
   "version": "3.7.3"
  }
 },
 "nbformat": 4,
 "nbformat_minor": 2
}
