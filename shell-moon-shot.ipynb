{
 "cells": [
  {
   "cell_type": "code",
   "execution_count": 1,
   "metadata": {},
   "outputs": [
    {
     "data": {
      "text/html": [
       "<div id=\"glowscript\" class=\"glowscript\"></div>"
      ],
      "text/plain": [
       "<IPython.core.display.HTML object>"
      ]
     },
     "metadata": {},
     "output_type": "display_data"
    },
    {
     "data": {
      "application/javascript": [
       "if (typeof Jupyter !== \"undefined\") { window.__context = { glowscript_container: $(\"#glowscript\").removeAttr(\"id\")};}else{ element.textContent = ' ';}"
      ],
      "text/plain": [
       "<IPython.core.display.Javascript object>"
      ]
     },
     "metadata": {},
     "output_type": "display_data"
    }
   ],
   "source": [
    "from math import *\n",
    "from vpython import *"
   ]
  },
  {
   "cell_type": "markdown",
   "metadata": {},
   "source": [
    "# Moonshot Program\n",
    "send a space ship from the earth to the moon and look at energy along the way."
   ]
  },
  {
   "cell_type": "code",
   "execution_count": 2,
   "metadata": {},
   "outputs": [
    {
     "data": {
      "text/html": [
       "<div id=\"glowscript\" class=\"glowscript\"></div>"
      ],
      "text/plain": [
       "<IPython.core.display.HTML object>"
      ]
     },
     "metadata": {},
     "output_type": "display_data"
    },
    {
     "data": {
      "application/javascript": [
       "if (typeof Jupyter !== \"undefined\") { window.__context = { glowscript_container: $(\"#glowscript\").removeAttr(\"id\")};}else{ element.textContent = ' ';}"
      ],
      "text/plain": [
       "<IPython.core.display.Javascript object>"
      ]
     },
     "metadata": {},
     "output_type": "display_data"
    },
    {
     "data": {
      "application/javascript": [
       "if (typeof Jupyter !== \"undefined\") {require.undef(\"nbextensions/vpython_libraries/glow.min\");}else{element.textContent = ' ';}"
      ],
      "text/plain": [
       "<IPython.core.display.Javascript object>"
      ]
     },
     "metadata": {},
     "output_type": "display_data"
    },
    {
     "data": {
      "application/javascript": [
       "if (typeof Jupyter !== \"undefined\") {require.undef(\"nbextensions/vpython_libraries/glowcomm\");}else{element.textContent = ' ';}"
      ],
      "text/plain": [
       "<IPython.core.display.Javascript object>"
      ]
     },
     "metadata": {},
     "output_type": "display_data"
    },
    {
     "data": {
      "application/javascript": [
       "if (typeof Jupyter !== \"undefined\") {require.undef(\"nbextensions/vpython_libraries/jquery-ui.custom.min\");}else{element.textContent = ' ';}"
      ],
      "text/plain": [
       "<IPython.core.display.Javascript object>"
      ]
     },
     "metadata": {},
     "output_type": "display_data"
    },
    {
     "data": {
      "application/javascript": [
       "if (typeof Jupyter !== \"undefined\") {require([\"nbextensions/vpython_libraries/glow.min\"], function(){console.log(\"GLOW LOADED\");});}else{element.textContent = ' ';}"
      ],
      "text/plain": [
       "<IPython.core.display.Javascript object>"
      ]
     },
     "metadata": {},
     "output_type": "display_data"
    },
    {
     "data": {
      "application/javascript": [
       "if (typeof Jupyter !== \"undefined\") {require([\"nbextensions/vpython_libraries/glowcomm\"], function(){console.log(\"GLOWCOMM LOADED\");});}else{element.textContent = ' ';}"
      ],
      "text/plain": [
       "<IPython.core.display.Javascript object>"
      ]
     },
     "metadata": {},
     "output_type": "display_data"
    },
    {
     "data": {
      "application/javascript": [
       "if (typeof Jupyter !== \"undefined\") {require([\"nbextensions/vpython_libraries/jquery-ui.custom.min\"], function(){console.log(\"JQUERY LOADED\");});}else{element.textContent = ' ';}"
      ],
      "text/plain": [
       "<IPython.core.display.Javascript object>"
      ]
     },
     "metadata": {},
     "output_type": "display_data"
    },
    {
     "name": "stdout",
     "output_type": "stream",
     "text": [
      "Ship crashed on the moon at time  51790 seconds\n",
      "All done.\n"
     ]
    }
   ],
   "source": [
    "#\n",
    "#  Define needed constants for the program\n",
    "#\n",
    "#  Initial speed of the space ship\n",
    "ShipSpeed = 1.3e4 # meters per second\n",
    "ShipMass  = 170 # kilograms  \n",
    "#\n",
    "G=6.67E-11\n",
    "# Radius of Earth and Moon\n",
    "rad_earth = 6.371e6 # meters\n",
    "rad_moon  = 6.371e6 # meters\n",
    "#\n",
    "EarthMass = 5.972e24 # kilograms\n",
    "MoonMass  = 5.972e24 # kilograms\n",
    "#\n",
    "# Locate the Earth and moon along the x-axis.\n",
    "#\n",
    "earthlocation=vector(0,0,0)\n",
    "moonlocation=vector(4.0e8,0,0)\n",
    "#\n",
    "#\n",
    "# Set up the displays\n",
    "#\n",
    "scene2 = canvas(title='Voyage to the Moon',caption='Animated Display',width=800, height=400,\n",
    "     center=0.5*moonlocation, background=color.black)\n",
    "#\n",
    "earth = sphere(pos=earthlocation, radius=rad_earth, color=color.blue)\n",
    "moon  = sphere(pos=moonlocation, radius=rad_moon, color=color.cyan)\n",
    "#\n",
    "earth.mass = EarthMass    \n",
    "moon.mass  = MoonMass  \n",
    "#\n",
    "# Initialize the spaceship\n",
    "#\n",
    "shiplocation=vector(earth.radius+50000,0,0)\n",
    "#\n",
    "ship = cylinder(pos=shiplocation, axis=vector(5e6,0,0),radius=2e6)\n",
    "#\n",
    "ship.mass  = ShipMass\n",
    "ship.speed = ShipSpeed\n",
    "#\n",
    "ship.momentum=vector(ship.mass*ship.speed,0,0)\n",
    "ship.trail = curve(color=ship.color)\n",
    "#\n",
    "# Create graphic for the energy display.\n",
    "#\n",
    "energyplot = graph(title='Energy versus Position',xtitle='Ship Position',ytitle='Energy',xmin=0,\n",
    "                   xmax=moon.pos.x, ymin=-1.5e10,ymax=1.5e10)\n",
    "#\n",
    "drawKE = gcurve(color=color.cyan,label='Kinetic Energy')\n",
    "drawPE = gcurve(color=color.blue,label='Potential Energy')\n",
    "drawTE = gcurve(color=color.magenta,label='Total Energy')\n",
    "drawIW  = gcurve(color=color.green,label='Incremental Work')\n",
    "drawTW  = gcurve(color=color.red,label='Total Work')\n",
    "TW = 0\n",
    "#\n",
    "#\n",
    "t=0\n",
    "dt= 10\n",
    "#\n",
    "#\n",
    "runit=1\n",
    "while (runit==1):\n",
    "#    \n",
    "    rate(100)\n",
    "#\n",
    "# Calculate Force of Moon on Ship\n",
    "#\n",
    "    r_ship_moon = ship.pos - moon.pos\n",
    "    r2_ship_moon = mag2(r_ship_moon)\n",
    "    r_hat_ship_moon = norm(r_ship_moon)\n",
    "    force_of_moon = -G * moon.mass * ship.mass * r_hat_ship_moon / r2_ship_moon\n",
    "#\n",
    "# Calculate Force of Earth on Ship\n",
    "#\n",
    "    r_ship_earth = ship.pos - earth.pos\n",
    "    r2_ship_earth = mag2(r_ship_earth)\n",
    "    r_hat_ship_earth = norm(r_ship_earth)\n",
    "    force_of_earth = -G * earth.mass * ship.mass * r_hat_ship_earth / r2_ship_earth\n",
    "#\n",
    "# Calculate the total force on the ship, and then use this\n",
    "# in Newton’s 2nd law.\n",
    "#\n",
    "    ship.force    = force_of_moon + force_of_earth\n",
    "    ship.momentum += ship.force * dt\n",
    "    ship.pos      += ship.momentum / ship.mass * dt\n",
    "#\n",
    "#append a piece to the end of the ship’s trail\n",
    "#\n",
    "    ship.trail.append(pos=ship.pos)  \n",
    "#\n",
    "# Calculate the Work done on the ship by both the EARTH AND THE MOON!\n",
    "#\n",
    "    dr = ship.momentum / ship.mass * dt\n",
    "    IW = dot(ship.force, dr) \n",
    "    TW += IW \n",
    "    \n",
    "#\n",
    "#  Caluclate and plot the Kinetic and Potential energy\n",
    "#\n",
    "    KE = mag2(ship.momentum) / (2 * ship.mass)\n",
    "    Ug_ship_moon  = -G * moon.mass * ship.mass / mag(r_ship_moon)\n",
    "    Ug_ship_earth = -G * earth.mass * ship.mass / mag(r_ship_earth)\n",
    "    PE = Ug_ship_moon + Ug_ship_earth\n",
    "    TE = KE + PE\n",
    "#\n",
    "    drawKE.plot(pos=(ship.pos.x,KE))\n",
    "    drawPE.plot(pos=(ship.pos.x,PE))\n",
    "    drawTE.plot(pos=(ship.pos.x,TE))\n",
    "    drawIW.plot(pos=(ship.pos.x,IW))\n",
    "    drawTW.plot(pos=(ship.pos.x,TW))\n",
    "#\n",
    "    t+=dt\n",
    "#\n",
    "# Check if we fell back to the earth or hit the moon:\n",
    "#\n",
    "    if (mag(ship.pos-earth.pos) <= earth.radius ):\n",
    "        print('Ship crashed back on the earth at time',t,'seconds')\n",
    "        runit=0\n",
    "    elif (mag(ship.pos-moon.pos) <= moon.radius/2 ):\n",
    "        print('Ship crashed on the moon at time ',t,'seconds')\n",
    "        runit=0\n",
    "#\n",
    "#                                                                       \n",
    "print('All done.')"
   ]
  }
 ],
 "metadata": {
  "kernelspec": {
   "display_name": "VPython",
   "language": "python",
   "name": "vpython"
  },
  "language_info": {
   "codemirror_mode": {
    "name": "ipython",
    "version": 3
   },
   "file_extension": ".py",
   "mimetype": "text/x-python",
   "name": "python",
   "nbconvert_exporter": "python",
   "pygments_lexer": "ipython3",
   "version": "3.7.3"
  }
 },
 "nbformat": 4,
 "nbformat_minor": 2
}
