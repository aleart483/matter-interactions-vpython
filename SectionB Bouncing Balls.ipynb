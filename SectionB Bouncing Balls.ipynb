{
 "cells": [
  {
   "cell_type": "markdown",
   "metadata": {},
   "source": [
    "## Bouncing Ball Program\n",
    "This is the example program for M&I"
   ]
  },
  {
   "cell_type": "code",
   "execution_count": 1,
   "metadata": {},
   "outputs": [
    {
     "data": {
      "text/html": [
       "<div id=\"glowscript\" class=\"glowscript\"></div>"
      ],
      "text/plain": [
       "<IPython.core.display.HTML object>"
      ]
     },
     "metadata": {},
     "output_type": "display_data"
    },
    {
     "data": {
      "application/javascript": [
       "if (typeof Jupyter !== \"undefined\") { window.__context = { glowscript_container: $(\"#glowscript\").removeAttr(\"id\")};}else{ element.textContent = ' ';}"
      ],
      "text/plain": [
       "<IPython.core.display.Javascript object>"
      ]
     },
     "metadata": {},
     "output_type": "display_data"
    }
   ],
   "source": [
    "from vpython import *\n",
    "from math import *"
   ]
  },
  {
   "cell_type": "code",
   "execution_count": null,
   "metadata": {},
   "outputs": [
    {
     "data": {
      "application/javascript": [
       "if (typeof Jupyter !== \"undefined\") {require.undef(\"nbextensions/vpython_libraries/glow.min\");}else{element.textContent = ' ';}"
      ],
      "text/plain": [
       "<IPython.core.display.Javascript object>"
      ]
     },
     "metadata": {},
     "output_type": "display_data"
    },
    {
     "data": {
      "application/javascript": [
       "if (typeof Jupyter !== \"undefined\") {require.undef(\"nbextensions/vpython_libraries/glowcomm\");}else{element.textContent = ' ';}"
      ],
      "text/plain": [
       "<IPython.core.display.Javascript object>"
      ]
     },
     "metadata": {},
     "output_type": "display_data"
    },
    {
     "data": {
      "application/javascript": [
       "if (typeof Jupyter !== \"undefined\") {require.undef(\"nbextensions/vpython_libraries/jquery-ui.custom.min\");}else{element.textContent = ' ';}"
      ],
      "text/plain": [
       "<IPython.core.display.Javascript object>"
      ]
     },
     "metadata": {},
     "output_type": "display_data"
    },
    {
     "data": {
      "application/javascript": [
       "if (typeof Jupyter !== \"undefined\") {require([\"nbextensions/vpython_libraries/glow.min\"], function(){console.log(\"GLOW LOADED\");});}else{element.textContent = ' ';}"
      ],
      "text/plain": [
       "<IPython.core.display.Javascript object>"
      ]
     },
     "metadata": {},
     "output_type": "display_data"
    },
    {
     "data": {
      "application/javascript": [
       "if (typeof Jupyter !== \"undefined\") {require([\"nbextensions/vpython_libraries/glowcomm\"], function(){console.log(\"GLOWCOMM LOADED\");});}else{element.textContent = ' ';}"
      ],
      "text/plain": [
       "<IPython.core.display.Javascript object>"
      ]
     },
     "metadata": {},
     "output_type": "display_data"
    },
    {
     "data": {
      "application/javascript": [
       "if (typeof Jupyter !== \"undefined\") {require([\"nbextensions/vpython_libraries/jquery-ui.custom.min\"], function(){console.log(\"JQUERY LOADED\");});}else{element.textContent = ' ';}"
      ],
      "text/plain": [
       "<IPython.core.display.Javascript object>"
      ]
     },
     "metadata": {},
     "output_type": "display_data"
    }
   ],
   "source": [
    "ball = sphere(pos=vector(0,0,0), radius=0.25, color=color.yellow)\n",
    "g = vector(0, -1, 0)\n",
    "#\n",
    "wallL = box(pos=vector(-10, 0,0), size=vector(0.1, 20, 20), color=color.green, opacity=0.30)\n",
    "wallR = box(pos=vector(10, 0,0), size=vector(0.1, 20, 20), color=color.red, opacity=0.30)\n",
    "wallT = box(pos=vector(0, 10,0), size=vector(20, 0.1, 20), color=color.yellow, opacity=0.30)\n",
    "wallB = box(pos=vector(0,-10,0), size=vector(20, 0.1, 20), color=color.blue, opacity=0.30)\n",
    "wallBa = box(pos=vector(0,0,-10), size=vector(20, 20, 0.1), color=color.cyan, opacity=0.3)\n",
    "#\n",
    "t = 0\n",
    "dt = 0.1\n",
    "ball.velocity = vector(1, 0.1, -0.7)\n",
    "ball.acceleration = g\n",
    "#\n",
    "ball.bv = arrow(pos=ball.pos,axis=ball.velocity,color=color.blue)\n",
    "ball.ba = arrow(pos=ball.pos,axis=ball.acceleration,color=color.red)\n",
    "ball.trail = curve(color=color.cyan)\n",
    "#\n",
    "while True:\n",
    "    rate(100)\n",
    "    if ball.pos.y - ball.radius > wallB.pos.y:\n",
    "        ball.velocity += ball.acceleration*dt\n",
    "    ball.pos += ball.velocity*dt \n",
    "    ball.bv.pos = ball.pos\n",
    "    ball.bv.axis = ball.velocity\n",
    "    ball.ba.pos = ball.pos\n",
    "    ball.trail.append(pos=ball.pos)\n",
    "    if ball.pos.x + ball.radius > wallR.pos.x or ball.pos.x - ball.radius < wallL.pos.x:\n",
    "        ball.velocity.x = -ball.velocity.x\n",
    "    if ball.pos.y + ball.radius > wallT.pos.y or ball.pos.y - ball.radius < wallB.pos.y:\n",
    "        ball.velocity.y = -ball.velocity.y\n",
    "    if ball.pos.z + ball.radius > -wallBa.pos.z or ball.pos.z - ball.radius < wallBa.pos.z:\n",
    "        ball.velocity.z = -ball.velocity.z\n",
    "    t += dt"
   ]
  },
  {
   "cell_type": "code",
   "execution_count": null,
   "metadata": {},
   "outputs": [],
   "source": []
  }
 ],
 "metadata": {
  "kernelspec": {
   "display_name": "Python 3",
   "language": "python",
   "name": "python3"
  },
  "language_info": {
   "codemirror_mode": {
    "name": "ipython",
    "version": 3
   },
   "file_extension": ".py",
   "mimetype": "text/x-python",
   "name": "python",
   "nbconvert_exporter": "python",
   "pygments_lexer": "ipython3",
   "version": "3.7.4"
  }
 },
 "nbformat": 4,
 "nbformat_minor": 2
}
